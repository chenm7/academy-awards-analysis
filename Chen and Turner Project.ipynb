{
 "cells": [
  {
   "cell_type": "markdown",
   "metadata": {},
   "source": [
    "# Predicting Academy Award Best Picture Winners"
   ]
  },
  {
   "cell_type": "markdown",
   "metadata": {},
   "source": [
    "## Introduction "
   ]
  },
  {
   "cell_type": "markdown",
   "metadata": {},
   "source": [
    "The academy awards are a yearly award ceremony honoring the best movies of the year and those who contributed to their making. The penultimate award is the academy award for best picture, which is given to the best movie of the year from a preannounced set of nominees. Every year, there is substantial speculation about which movie will win the award.  The goal of this project is to predict academy award for best picture winners from a academy award for best picture nominated movies. \n",
    "\n",
    "Data is scraped from wikipedia and imdb. The features included in this dataset and analysis are: Director, Producer, Written by/Screenplay by, Cast, Budget, Box Office, language, runtime, year, rating, genres and plot. A number of binary classification methods are considered: Logistic regression, Support Vector Machines, K-th Nearest Neighbors, Random Forests and Adaboost. These methods are implemented, analyzed and compared. While a variety of these variables factor in exploratory data analysis and logistic regression analysis, textual analysis of the plot is the primary component of binary classification efforts, but all relevant features are included in the construction of a simularity measure (kernel). \n",
    "\n",
    "These classification and prediction algorithms, as well as the general analysis of this project, could be used to predict which movies, particularly movie plots, are most likely to be successful at the academy awards. Production company executives could use these algorithms to assess the quality of scripts. \n",
    "\n",
    "This notebook has four parts: Web Scraping and Data retrieval, Exploratory Data Analysis, Classification and Prediction and Conclusion. \n",
    "\n"
   ]
  },
  {
   "cell_type": "markdown",
   "metadata": {},
   "source": [
    "## Web Scraping and Data Retrieval"
   ]
  },
  {
   "cell_type": "markdown",
   "metadata": {},
   "source": [
    "Data is scraped from wikipedia pages for each academy award nominated movie. The variables collected include: Movie Name, Director, Producer, Written By, Screenplay By, Budget, Box Office, Starring, Languages, A brief description of the film, Plot Summary and Running Time. From imdb, the following variables are scraped: Year, Genre(s) and imdb rating. The code in this section does not have to be run, I have already run this code and exported the data into an attached excel file since the web scraping code takes quite a few minutes and isnt possible without an internet connection. Note: Wikipedia pages are subject to change over time. Changes in formatting on some pages may lead to missing values in the scraping."
   ]
  },
  {
   "cell_type": "markdown",
   "metadata": {},
   "source": [
    "The following function takes the end of a wikipedia url such as \"/wiki/Three_Coins_in_the_Fountain_(film)\" and outputs information as an array. "
   ]
  },
  {
   "cell_type": "code",
   "execution_count": 317,
   "metadata": {},
   "outputs": [],
   "source": [
    "import requests\n",
    "from bs4 import BeautifulSoup\n",
    "import pandas"
   ]
  },
  {
   "cell_type": "code",
   "execution_count": 318,
   "metadata": {},
   "outputs": [],
   "source": [
    "def movieinfo(x):\n",
    "\t\"\"\"Returns a list of movie info according to list of things (plus description)\n",
    "\tINPUT: wikipedia url ending for a movie /wiki/movie_name\n",
    "\tOUTPUT: An array including: name, \"Directed by\", \"Produced by\", \"Written by\", \"Screenplay by\", \"Music by\", \"Budget\", \"Box office\", \"Starring\", \"Distributed by\", \"Country\", \"Language\"\n",
    "\t, description, plot, Premiere Date and Running Time\"\"\"\n",
    "\tlink = \"https://en.wikipedia.org\" + x\n",
    "\tstuff = requests.get(link) #Pulls Link\n",
    "\tsoup = BeautifulSoup(stuff.text, 'html.parser') #Parses HTML into Beautiful Soup\n",
    "\tlistofthings = [ \"Directed by\", \"Produced by\", \"Written by\", \"Screenplay by\", \"Music by\", \"Budget\", \"Box office\", \"Starring\", \"Distributed by\", \"Country\", \"Language\"]\n",
    "\tresult=[]\n",
    "\tfor i in listofthings: #Adds the items in list of things\n",
    "\t\ttry:\n",
    "\t\t\tfor th in soup.find(text=i).parent.find_next_siblings():\n",
    "\t\t\t\tresult.append(th.text) #append the text that corresponds to i, in the list of things\n",
    "\t\texcept:\n",
    "\t\t\tresult.append(\"NA\")\n",
    "\tresult.append(soup.find(\"p\").get_text()) #Appending the description\n",
    "\ttry: #Addings Premiere Date\n",
    "\t\tRDate = soup.find(\"span\").get_text()\n",
    "\t\tRDate = RDate[RDate.index(\"(\"):RDate.index(\")\")]\n",
    "\t\tresult.append(RDate)\n",
    "\n",
    "\texcept:\n",
    "\t\tresult.append(\"NA\")\n",
    "\ttry:\t#Adds Running Time\t\n",
    "\t\t[result.append(rtime.text) for rtime in soup.find(text=\"Running time\").parent.parent.find_next_siblings()]\n",
    "\texcept:\n",
    "\t\tresult.append(\"NA\") \n",
    "\n",
    "\ttry: #Adds plot\n",
    "\t\twholepage = soup.get_text()\n",
    "\t\t#result.append(wholepage)\n",
    "\t\tresult.append(wholepage[wholepage.index(\"Plot[edit]\")+len(\"Plot[edit]\"):wholepage.index(\"Cast[edit]\")])\n",
    "\texcept:\n",
    "\t\tresult.append(\"NA\")\n",
    "\n",
    "\treturn result"
   ]
  },
  {
   "cell_type": "markdown",
   "metadata": {},
   "source": [
    "The following code scrapes the wikipedia page for academy award for best picture, to get a list of academy award for best picture nominated movies. More acurately, it scrapes this page for the wikipedia url endings, which is what is inputed to the movieinfo function.  "
   ]
  },
  {
   "cell_type": "code",
   "execution_count": 319,
   "metadata": {},
   "outputs": [],
   "source": [
    "link = \"https://en.wikipedia.org/wiki/Academy_Award_for_Best_Picture\"\n",
    "stuff = requests.get(link)\n",
    "soup2 = BeautifulSoup(stuff.text, 'html.parser')\n",
    "\n",
    "listofmovies = [] \n",
    "listofwinners = []\n",
    "for child in soup2.findAll(\"tr\", style=\"background:#FAEB86\"):\n",
    "\tlistofmovies.append(child.find(\"a\")[\"href\"]) #Appending the wikipedia website for best pictures\n",
    "\tlistofwinners.append(child.find(\"a\")[\"href\"]) #Appending the wikipedia website to list of best picture winners\n",
    "\tfor child2 in child.find_next_siblings():\n",
    "\t\tlistofmovies.append(child2.find(\"a\")[\"href\"]) ##Appending the wikipedia website for non best pictures\n",
    "#Non best picturs are added seperatly, they are under next siblings of child, while child (best picture) is the first sibling\n",
    "listofmovies=list(set(listofmovies)) #Remove Duplicates\n",
    "\n",
    "#Remove year_in_film from list of films (This is a heading in wikipedia which is incorrectly added to listofmovies as a movie, it is removed here)\n",
    "newlistofmovies = []\n",
    "for i in range(len(listofmovies)):\n",
    "\tmovie = listofmovies[i]\n",
    "\tif \"in_film\" not in  movie:\n",
    "\t\tnewlistofmovies.append(movie)\n",
    "\n",
    "listofmovies = newlistofmovies"
   ]
  },
  {
   "cell_type": "markdown",
   "metadata": {},
   "source": [
    "The following code iterates through the best picture nominees (listofmovies) and scrapes the movie information using the movieinfo function."
   ]
  },
  {
   "cell_type": "code",
   "execution_count": null,
   "metadata": {},
   "outputs": [],
   "source": [
    "#Runs through all the movies and gets the movie info Combining into one long list\n",
    "#WARNING: Takes about 3 minutes\n",
    "arrayofmovieinfo=[]\n",
    "for movie in listofmovies:\n",
    "\t#print(movie)\n",
    "\ttry:\n",
    "\t\tnewmovie=[movie]+ movieinfo(movie) \n",
    "\t\tarrayofmovieinfo.append(newmovie)\n",
    "\texcept:\n",
    "\t\tnewmovie=[movie] + [\"Didn't Work\"]\n",
    "\t\tarrayofmovieinfo.append(newmovie)\n",
    "\t\tcontinue\n",
    "#print(arrayofmovieinfo)\n"
   ]
  },
  {
   "cell_type": "markdown",
   "metadata": {},
   "source": [
    "Creating variable that is 1 if the movie was a winner:"
   ]
  },
  {
   "cell_type": "code",
   "execution_count": null,
   "metadata": {},
   "outputs": [],
   "source": [
    "#Create Variable which is 1 if the movie was a winner:\n",
    "for i in range(len(listofmovies)):\n",
    "\tif listofmovies[i] in listofwinners:\n",
    "\t\tarrayofmovieinfo[i].append(1)\n",
    "\telse:\n",
    "\t\tarrayofmovieinfo[i].append(0)"
   ]
  },
  {
   "cell_type": "markdown",
   "metadata": {},
   "source": [
    "The name variable is changed from wikipedia url endings to actual movie names (strings)."
   ]
  },
  {
   "cell_type": "code",
   "execution_count": null,
   "metadata": {},
   "outputs": [],
   "source": [
    "#Removing the stuff needed to get the wikipedia page\n",
    "for i in range(len(arrayofmovieinfo)):\n",
    "\tarrayofmovieinfo[i][0]= arrayofmovieinfo[i][0].replace(\"/wiki/\", \"\")\n",
    "\tarrayofmovieinfo[i][0] = arrayofmovieinfo[i][0].replace(\"_\", \" \")\n",
    "\tarrayofmovieinfo[i][0] = arrayofmovieinfo[i][0].replace(\"%27\", \"'\")\n",
    "\tif \"(\" in arrayofmovieinfo[i][0] :\n",
    "\t\tarrayofmovieinfo[i][0] = arrayofmovieinfo[i][0][0:arrayofmovieinfo[i][0].index(\"(\")]\n"
   ]
  },
  {
   "cell_type": "markdown",
   "metadata": {},
   "source": [
    "The scraped data is turned into a pandas dataframe and exported to an excel file. Note: I commented out the code to write to an excel file, since I have already done this to save time. I instead just read in the data from this excel file. "
   ]
  },
  {
   "cell_type": "code",
   "execution_count": null,
   "metadata": {},
   "outputs": [],
   "source": [
    "df = pandas.DataFrame(arrayofmovieinfo)\n",
    "from pandas import ExcelWriter\n",
    "writer = ExcelWriter('academy.xlsx')\n",
    "df.to_excel(writer,'Sheet1')\n",
    "writer.save()"
   ]
  },
  {
   "cell_type": "markdown",
   "metadata": {},
   "source": [
    "The following cell scrapes data from imdb. the scraped variables are name, genre(s), year and imdb rating. The data is exported to an excel file. "
   ]
  },
  {
   "cell_type": "code",
   "execution_count": null,
   "metadata": {},
   "outputs": [],
   "source": [
    "names = []\n",
    "rating = []\n",
    "year = []\n",
    "genres = []\n",
    "\n",
    "links = [\"https://www.imdb.com/list/ls057163321/\",\"https://www.imdb.com/list/ls057163321/?sort=list_order,asc&st_dt=&mode=detail&page=2\",\"https://www.imdb.com/list/ls057163321/?sort=list_order,asc&st_dt=&mode=detail&page=3\",\"https://www.imdb.com/list/ls057163321/?sort=list_order,asc&st_dt=&mode=detail&page=4\",\"https://www.imdb.com/list/ls057163321/?sort=list_order,asc&st_dt=&mode=detail&page=5\",\"https://www.imdb.com/list/ls057163321/?sort=list_order,asc&st_dt=&mode=detail&page=6\"]\n",
    "for link in links:\n",
    "\tstuff = requests.get(link) #Pulls Link\n",
    "\tsoup = BeautifulSoup(stuff.text, 'html.parser') \n",
    "\tdat = soup.find_all(\"div\", {\"class\": \"lister-item mode-detail\"})\n",
    "\tdat = [i.get_text() for i in dat]\n",
    "\tdat = [\" \".join(i.split()) for i in dat]\n",
    "\tfor movie in dat:\n",
    "\t\tif \"0 Rate\" in movie:\n",
    "\t\t\ti = movie[0:movie.index(\"0 Rate\")]\n",
    "\t\t\tnames.append(i[i.index(\".\")+2:i.index(\" (\")])\n",
    "\t\t\trating.append(i[-4:-1])\n",
    "\t\t\tyearpos = i[i.index(\"(\")+1:i.index(\")\")]\n",
    "\t\t\tif yearpos == 'II' or yearpos == 'I' :\n",
    "\t\t\t\tif \" (2\" in i:\n",
    "\t\t\t\t\tyear.append(i[i.index(\" (2\")+2:i.index(\" (2\")+6])\n",
    "\t\t\t\tif \" (1\" in i:\n",
    "\t\t\t\t\tyear.append(i[i.index(\" (1\")+2:i.index(\" (1\")+6])\n",
    "\t\t\telse:\n",
    "\t\t\t\tyear.append(yearpos)\n",
    "\t\t\tgenres.append(i[i.index(\"min |\")+len(\"min |\"):-5])\n",
    "\t\telse:\n",
    "\t\t\tnames.append(\"NA\")\n",
    "\t\t\trating.append(\"NA\")\n",
    "\t\t\tyear.append(\"NA\")\n",
    "\t\t\tgenres.append(\"NA\")\n",
    "\n",
    "#Birdman movie data is incorrect, must be fixed manually\n",
    "names[71] = \" Birdman or (The Unexpected Virtue of Ignorance)\"\n",
    "year[71] = \"2014\"\n",
    "genres[71] = \"Comedy, Drama\"\n",
    "rating[71] = \"7.7\"\n",
    "\n",
    "\n",
    "data = np.array([names,year,rating,genres])\n",
    "\n",
    "df = pandas.DataFrame(np.transpose(data))\n",
    "\n",
    "from pandas import ExcelWriter\n",
    "\n",
    "writer = ExcelWriter('academyimdb.xlsx')\n",
    "df.to_excel(writer,'Sheet1')\n",
    "writer.save()"
   ]
  },
  {
   "cell_type": "markdown",
   "metadata": {},
   "source": [
    "The following cell reads the data from the spreadsheet for academy.xlsx and academyimdb.xlsx and merges them. It also corrects some incorrect data and errors."
   ]
  },
  {
   "cell_type": "code",
   "execution_count": null,
   "metadata": {},
   "outputs": [],
   "source": [
    "dfimdb = pd.read_excel(\"academyimdb.xlsx\",sheet_name='Sheet1' ) #Import imdb data\n",
    "dfwiki = pd.read_excel(\"academy.xlsx\",sheet_name='Sheet1' ) #Import wiki data\n",
    "\n",
    "\n",
    "\n",
    "dfimdb = dfimdb.as_matrix()\n",
    "dfwiki = dfwiki.as_matrix()\n",
    "\n",
    "\n",
    "dfimdb[452] = ['49th Parallel', \"NA\", \"NA\", \"NA\"] # There is a missing value that needs to be changed from NaN to \"NA\"\n",
    "match=[[4,542],[70,166],[404,485],[405,522],[418,210],[446,544],[108,53],[129,57],[136,515],[167,121],[168,541],[175,227],[176,543],[197,394],[228,203],[229,324],[286,545],[287,540],[328,111],[352,437],[354,99],[459,67],[471,189]]\n",
    "for (i,j) in match: #Changing the misnamed in the wiki dataset\n",
    "\tdfwiki[j][0]=dfimdb[i][0]\n",
    "rats=[]\n",
    "notrats=[]\n",
    "\n",
    "#Cycles through the data and where the names match, the indexes are stored in rats\n",
    "for i in range(0,540): \n",
    "\tfor j in range(0,540):\n",
    "\t\tif dfimdb[i][0].strip() == dfwiki[j][0].strip():\n",
    "\t\t\trats.append([i,j])\n",
    "\t\telse:\n",
    "\t\t\tcontinue\n",
    "wikiratsset = set([j for (i,j) in rats])\n",
    "#print(wikiratsset)\n",
    "notrats = set(range(546)) - wikiratsset\n",
    "print(notrats)\n",
    "#Pulls the matching entries (whose indices are stored in rats) into a final dataframe\n",
    "final=[]\n",
    "for (i,j) in rats:\n",
    "\t\tfinal.append(np.append(dfwiki[j],dfimdb[i]))\n",
    "\n",
    "\n",
    "# 228 and 231 are duplicate observations caused by the issue of two movies called \"Les Miserables\" These observations are dropped\n",
    "final.pop(228)\n",
    "final.pop(230)\n",
    "\n",
    "#Same issue with Romeo and Juliet, two nominated movies with that name, so i dropped the duplicates created by this issue\n",
    "final.pop(318)\n",
    "final.pop(318)\n",
    "print(notrats)\n",
    "[final.append(dfwiki[j]) for j in notrats] #Add wikidata for ones who didnt match\n",
    "\n",
    "\n",
    "\n",
    "\n",
    "\n",
    "\n",
    "#Write to Excel file\n",
    "df = pd.DataFrame(final)\n",
    "\n",
    "#writer = ExcelWriter('merged.xlsx')\n",
    "#df.to_excel(writer,'Sheet1')\n",
    "#writer.save()"
   ]
  },
  {
   "cell_type": "markdown",
   "metadata": {},
   "source": [
    "While the above cells will scrape the data. We have already run them and stored the scraped data in the file \"AAdata.xlsx\""
   ]
  },
  {
   "cell_type": "markdown",
   "metadata": {},
   "source": [
    "## Import the Data"
   ]
  },
  {
   "cell_type": "code",
   "execution_count": 1,
   "metadata": {},
   "outputs": [
    {
     "data": {
      "text/plain": [
       "(546, 15)"
      ]
     },
     "execution_count": 1,
     "metadata": {},
     "output_type": "execute_result"
    }
   ],
   "source": [
    "import pandas as pd\n",
    "import numpy as np\n",
    "data = pd.read_excel(\"AAdata.xlsx\", sheet_name='Sheet1')\n",
    "n = data.shape[0]\n",
    "data.shape"
   ]
  },
  {
   "cell_type": "code",
   "execution_count": 2,
   "metadata": {},
   "outputs": [],
   "source": [
    "#data.columns=[\"Name\",\"Director\", \"Producer\", \"Written by\", \"Screenplay by\",\"Budget\", \"Box Office\", \"Cast\",\"Language\",\"Runtime\",\"Plot\",\"Winner\",\"Year\",\"Rating\",\"Generes\"]\n",
    "data = data.as_matrix()"
   ]
  },
  {
   "cell_type": "markdown",
   "metadata": {},
   "source": [
    "## Training/ Test Data Split\n",
    "In this section, a training/test split is created. A 70-30 split is chosen."
   ]
  },
  {
   "cell_type": "code",
   "execution_count": 3,
   "metadata": {},
   "outputs": [
    {
     "name": "stdout",
     "output_type": "stream",
     "text": [
      "(382, 15)\n",
      "(164, 15)\n"
     ]
    }
   ],
   "source": [
    "from sklearn.model_selection import train_test_split\n",
    "train, test = train_test_split(data, test_size=0.3, random_state=8543259)\n",
    "print(train.shape)\n",
    "print(test.shape)\n",
    "n = train.shape[0]\n",
    "nt = test.shape[0]\n",
    "testindex = []\n",
    "trainindex = []\n",
    "for i in range(data.shape[0]):\n",
    "    for j in range(n):\n",
    "        if data[i][0]==train[j][0] and data[i][1]==train[j][1]:\n",
    "            trainindex.append(i)\n",
    "for i in range(data.shape[0]):\n",
    "    if i not in trainindex:\n",
    "        testindex.append(i)"
   ]
  },
  {
   "cell_type": "markdown",
   "metadata": {},
   "source": [
    "# Data Cleaning\n",
    "A name ending in \"vect\" is given to each cleaned and vectorized portion of data. The matrices or vectors ending in vect consist only of cleaned data as numbers, rather than strings or uncleaned data."
   ]
  },
  {
   "cell_type": "markdown",
   "metadata": {},
   "source": [
    "## Director: Train\n",
    "The variables are changed to lists of directors."
   ]
  },
  {
   "cell_type": "code",
   "execution_count": 4,
   "metadata": {},
   "outputs": [],
   "source": [
    "for i in range(n):\n",
    "    train[i][1]=train[i][1].split(\"\\n\") #splits string by line breaks (this divides it into directors)\n",
    "    train[i][1]=list(filter(None, train[i][1])) #Takes out the empty strings "
   ]
  },
  {
   "cell_type": "markdown",
   "metadata": {},
   "source": [
    "The following cell extracts a list of directors that appear more than once in train and puts them in keepdirect. Directors that only appear once will be disregarded."
   ]
  },
  {
   "cell_type": "code",
   "execution_count": 5,
   "metadata": {},
   "outputs": [
    {
     "name": "stdout",
     "output_type": "stream",
     "text": [
      "85\n"
     ]
    }
   ],
   "source": [
    "listofdirect = []\n",
    "[listofdirect.append(train[i][1]) for i in range(n)]\n",
    "masterlist = []\n",
    "for i in listofdirect:\n",
    "    for item in i:\n",
    "        masterlist.append(item)\n",
    "\n",
    "keepdirect = []\n",
    "for item in masterlist:\n",
    "    if masterlist.count(item)>1:\n",
    "        keepdirect.append(item) #put the directors that show up more than once in keep\n",
    "keepdirect = list(set(keepdirect)) #remove duplicates\n",
    "print(len(keepdirect))"
   ]
  },
  {
   "cell_type": "markdown",
   "metadata": {},
   "source": [
    "77 directors have directed more than one academy award nominated movie in the training set. The following cell creates a matrix where each row is a movie and each column vector is one of these directors. The entry in the matrix is one if the director directed that movie and zero otherwise. "
   ]
  },
  {
   "cell_type": "code",
   "execution_count": 6,
   "metadata": {},
   "outputs": [
    {
     "data": {
      "text/plain": [
       "(382, 85)"
      ]
     },
     "execution_count": 6,
     "metadata": {},
     "output_type": "execute_result"
    }
   ],
   "source": [
    "\n",
    "traindirectvect = [ [] for i in range(n) ]\n",
    "for i in range(n):\n",
    "    for j in range(len(keepdirect)):\n",
    "        traindirectvect[i].append( train[i][1].count(keepdirect[j]) )\n",
    "np.array(traindirectvect).shape"
   ]
  },
  {
   "cell_type": "markdown",
   "metadata": {},
   "source": [
    "## Director: Test\n",
    "In this section, the matrix of data on directors in the test set is created. For each movie, the entry is one if the directed directed that movie and zero otehrwise. "
   ]
  },
  {
   "cell_type": "code",
   "execution_count": 7,
   "metadata": {},
   "outputs": [
    {
     "data": {
      "text/plain": [
       "(164, 85)"
      ]
     },
     "execution_count": 7,
     "metadata": {},
     "output_type": "execute_result"
    }
   ],
   "source": [
    "for i in range(nt):\n",
    "    test[i][1]=test[i][1].split(\"\\n\") #splits string by line breaks (this divides it into directors)\n",
    "    test[i][1]=list(filter(None, test[i][1])) #Takes out the empty strings \n",
    "\n",
    "testdirectvect = [ [] for i in range(nt) ]\n",
    "for i in range(nt):\n",
    "    for j in range(len(keepdirect)):\n",
    "        testdirectvect[i].append( test[i][1].count(keepdirect[j]) )\n",
    "np.array(testdirectvect).shape"
   ]
  },
  {
   "cell_type": "markdown",
   "metadata": {},
   "source": [
    "## Producer: Train\n",
    "The variables are changed to lists of directors."
   ]
  },
  {
   "cell_type": "code",
   "execution_count": 8,
   "metadata": {},
   "outputs": [],
   "source": [
    "for i in range(n):\n",
    "    train[i][2]=train[i][2].split(\"\\n\") #splits string by line breaks (this divides it into producers)\n",
    "    train[i][2]=list(filter(None, train[i][2])) #Takes out the empty strings"
   ]
  },
  {
   "cell_type": "markdown",
   "metadata": {},
   "source": [
    "The following cell extracts a list of directors that appear more than once and puts them in keepprod. Producers that only appear once will be disregarded."
   ]
  },
  {
   "cell_type": "code",
   "execution_count": 9,
   "metadata": {},
   "outputs": [
    {
     "name": "stdout",
     "output_type": "stream",
     "text": [
      "61\n"
     ]
    }
   ],
   "source": [
    "listofprod = []\n",
    "[listofprod.append(data[i][2]) for i in range(n)]\n",
    "masterlist = []\n",
    "for i in listofprod:\n",
    "    for item in i:\n",
    "        masterlist.append(item)\n",
    "\n",
    "keepprod = []\n",
    "for item in masterlist:\n",
    "    if masterlist.count(item)>1:\n",
    "        #print(item,masterlist.count(item))\n",
    "        keepprod.append(item) #put the directors that show up more than once in keep\n",
    "keepprod = list(set(keepprod)) #remove duplicates\n",
    "print(len(keepprod))"
   ]
  },
  {
   "cell_type": "markdown",
   "metadata": {},
   "source": [
    "There are 61 producers that have produced more than one nominated film. The following cell creates a matrix where each row is a movie and each column is one of these producers. The entry in the matrix is one if the producer produced that movie and zero otherwise. "
   ]
  },
  {
   "cell_type": "code",
   "execution_count": 10,
   "metadata": {},
   "outputs": [
    {
     "data": {
      "text/plain": [
       "(382, 61)"
      ]
     },
     "execution_count": 10,
     "metadata": {},
     "output_type": "execute_result"
    }
   ],
   "source": [
    "\n",
    "trainprodvect = [ [] for i in range(n) ]\n",
    "for i in range(n):\n",
    "    for j in range(len(keepprod)):\n",
    "        trainprodvect[i].append( train[i][1].count(keepprod[j]) )\n",
    "np.array(trainprodvect).shape\n"
   ]
  },
  {
   "cell_type": "markdown",
   "metadata": {},
   "source": [
    "## Producer: Test"
   ]
  },
  {
   "cell_type": "code",
   "execution_count": 11,
   "metadata": {},
   "outputs": [
    {
     "data": {
      "text/plain": [
       "(164, 61)"
      ]
     },
     "execution_count": 11,
     "metadata": {},
     "output_type": "execute_result"
    }
   ],
   "source": [
    "for i in range(nt):\n",
    "    test[i][2]=test[i][2].split(\"\\n\") #splits string by line breaks (this divides it into producers)\n",
    "    test[i][2]=list(filter(None, test[i][2])) #Takes out the empty strings\n",
    "testprodvect = [ [] for i in range(nt) ]\n",
    "for i in range(nt):\n",
    "    for j in range(len(keepprod)):\n",
    "        testprodvect[i].append( test[i][1].count(keepprod[j]) )\n",
    "np.array(testprodvect).shape"
   ]
  },
  {
   "cell_type": "markdown",
   "metadata": {},
   "source": [
    "The trainprodvect and testprodvect variable is the variable that will actually be put into later algorithms (perhaps after kernel trick or dimensional reductin is applied)."
   ]
  },
  {
   "cell_type": "markdown",
   "metadata": {},
   "source": [
    "## Written by and Screenplay by: Train\n",
    "These variables are combined into a \"Created by\" variable. Each movie is either an original screenplay or an adapted screenplay. So each movie is missing for either Wirtten by or Screenplay by."
   ]
  },
  {
   "cell_type": "code",
   "execution_count": 12,
   "metadata": {},
   "outputs": [],
   "source": [
    "Createdby = [[train[i][3],train[i][4]] for i in range(n)]\n",
    "newCreatedby = [[] for i in range(n)]\n",
    "for i in range(n):\n",
    "    for j in range(len(Createdby[i])):\n",
    "        if pd.isna(Createdby[i][j])==False:\n",
    "            newCreatedby[i].append(Createdby[i][j].split(\"\\n\")) #Combines written by and screenplay by\n",
    "# for i in range(n):\n",
    "#     for j in range(len(newCreatedby[i])):\n",
    "newCreatedby = [item for sublist in newCreatedby for item in sublist] #Removes double listing\n",
    "newCreatedby = [ list(filter(None, newCreatedby[i])) for i in range(n) ] #Removes empty strings"
   ]
  },
  {
   "cell_type": "markdown",
   "metadata": {},
   "source": [
    "The following cell extracts a list of creators that appear more than once and puts them in keepcreate. Creators that only appear once will be disregarded."
   ]
  },
  {
   "cell_type": "code",
   "execution_count": 13,
   "metadata": {},
   "outputs": [
    {
     "name": "stdout",
     "output_type": "stream",
     "text": [
      "92\n"
     ]
    }
   ],
   "source": [
    "listofcreat = []\n",
    "[listofcreat.append(newCreatedby[i]) for i in range(n)]\n",
    "masterlist = []\n",
    "for i in listofcreat:\n",
    "    for item in i:\n",
    "        masterlist.append(item)\n",
    "keepcreate = []\n",
    "for item in masterlist:\n",
    "    if masterlist.count(item)>1:\n",
    "        #print(item,masterlist.count(item))\n",
    "        keepcreate.append(item) #put the directors that show up more than once in keep\n",
    "    #else:\n",
    "        #print(item,masterlist.count(item))\n",
    "keepcreate = list(set(keepcreate)) #remove duplicates\n",
    "print(len(keepcreate))"
   ]
  },
  {
   "cell_type": "markdown",
   "metadata": {},
   "source": [
    "There are 95 \"creators\" that have contributed in this way to more than one academy award nominated movie. The following cell creates a matrix where each row is a movie and each column is one of these creators. The entry in the matrix is one if the creator created that movie and zero otherwise. "
   ]
  },
  {
   "cell_type": "code",
   "execution_count": 14,
   "metadata": {},
   "outputs": [
    {
     "data": {
      "text/plain": [
       "(382, 92)"
      ]
     },
     "execution_count": 14,
     "metadata": {},
     "output_type": "execute_result"
    }
   ],
   "source": [
    "traincreatvect = [ [] for i in range(n) ]\n",
    "for i in range(n):\n",
    "    for j in range(len(keepcreate)):\n",
    "        traincreatvect[i].append( newCreatedby[i].count(keepcreate[j]) )\n",
    "np.array(traincreatvect).shape"
   ]
  },
  {
   "cell_type": "markdown",
   "metadata": {},
   "source": [
    "## Written by and Screenplay by: Test\n",
    "Creates a matrix where the (i,j)th entry is 1 if the creator j created the ith movie. Only creators that appeared more than once in training set are used."
   ]
  },
  {
   "cell_type": "code",
   "execution_count": 15,
   "metadata": {},
   "outputs": [
    {
     "data": {
      "text/plain": [
       "(164, 92)"
      ]
     },
     "execution_count": 15,
     "metadata": {},
     "output_type": "execute_result"
    }
   ],
   "source": [
    "Createdby = [[test[i][3],test[i][4]] for i in range(nt)]\n",
    "newCreatedby = [[] for i in range(nt)]\n",
    "for i in range(nt):\n",
    "    for j in range(len(Createdby[i])):\n",
    "        if pd.isna(Createdby[i][j])==False:\n",
    "            newCreatedby[i].append(Createdby[i][j].split(\"\\n\")) #Combines written by and screenplay by\n",
    "# for i in range(n):\n",
    "#     for j in range(len(newCreatedby[i])):\n",
    "newCreatedby = [item for sublist in newCreatedby for item in sublist] #Removes double listing\n",
    "newCreatedby = [ list(filter(None, newCreatedby[i])) for i in range(nt) ] #Removes empty strings\n",
    "\n",
    "\n",
    "testcreatvect = [ [] for i in range(nt) ]\n",
    "for i in range(nt):\n",
    "    for j in range(len(keepcreate)):\n",
    "        testcreatvect[i].append( newCreatedby[i].count(keepcreate[j]) )\n",
    "np.array(testcreatvect).shape"
   ]
  },
  {
   "cell_type": "markdown",
   "metadata": {},
   "source": [
    "## Cast: Train\n",
    "We turn this variable into a list of actors/actresses appearing."
   ]
  },
  {
   "cell_type": "code",
   "execution_count": 16,
   "metadata": {},
   "outputs": [],
   "source": [
    "for i in range(n):\n",
    "    train[i][7]=train[i][7].split(\"\\n\") #splits string by line breaks (this divides it into list of actors/acrtresses)\n",
    "    train[i][7]=list(filter(None, train[i][7])) #Takes out the empty strings "
   ]
  },
  {
   "cell_type": "markdown",
   "metadata": {},
   "source": [
    "The following cell extracts a list of actors that appear more than once and puts them in keepprod. Cast that only appear once will be disregarded."
   ]
  },
  {
   "cell_type": "code",
   "execution_count": 17,
   "metadata": {},
   "outputs": [
    {
     "name": "stdout",
     "output_type": "stream",
     "text": [
      "371\n"
     ]
    }
   ],
   "source": [
    "listofact = []\n",
    "[listofact.append(train[i][7]) for i in range(n)]\n",
    "masterlist = []\n",
    "for i in listofact:\n",
    "    for item in i:\n",
    "        masterlist.append(item)\n",
    "\n",
    "keepact = []\n",
    "for item in masterlist:\n",
    "    if masterlist.count(item)>1:\n",
    "        #print(item,masterlist.count(item))\n",
    "        keepact.append(item) #put the actors that show up more than once in keep\n",
    "keepact = list(set(keepact)) #remove duplicates\n",
    "print(len(keepact))"
   ]
  },
  {
   "cell_type": "markdown",
   "metadata": {},
   "source": [
    "There are 364 actors/actresses that have been in more than one nominated film (Note: This makes sense becaues movies can have a lot of actors).The following cell creates a matrix where each row is a movie and each column is one of these actors. The entry in the matrix is one if the actor participated in that movie and zero otherwise. "
   ]
  },
  {
   "cell_type": "code",
   "execution_count": 18,
   "metadata": {},
   "outputs": [
    {
     "data": {
      "text/plain": [
       "(382, 371)"
      ]
     },
     "execution_count": 18,
     "metadata": {},
     "output_type": "execute_result"
    }
   ],
   "source": [
    "trainactvect = [ [] for i in range(n) ]\n",
    "for i in range(n):\n",
    "    for j in range(len(keepact)):\n",
    "        trainactvect[i].append( train[i][1].count(keepact[j]) )\n",
    "np.array(trainactvect).shape"
   ]
  },
  {
   "cell_type": "markdown",
   "metadata": {},
   "source": [
    "## Cast: Test"
   ]
  },
  {
   "cell_type": "code",
   "execution_count": 19,
   "metadata": {},
   "outputs": [
    {
     "data": {
      "text/plain": [
       "(164, 371)"
      ]
     },
     "execution_count": 19,
     "metadata": {},
     "output_type": "execute_result"
    }
   ],
   "source": [
    "for i in range(nt):\n",
    "    test[i][7]=test[i][7].split(\"\\n\") #splits string by line breaks (this divides it into list of actors/acrtresses)\n",
    "    test[i][7]=list(filter(None, test[i][7])) #Takes out the empty strings \n",
    "    \n",
    "testactvect = [ [] for i in range(nt) ]\n",
    "for i in range(nt):\n",
    "    for j in range(len(keepact)):\n",
    "        testactvect[i].append( test[i][1].count(keepact[j]) )\n",
    "np.array(testactvect).shape"
   ]
  },
  {
   "cell_type": "markdown",
   "metadata": {},
   "source": [
    "## Budget and Box Office\n",
    "These variables contain box office and budget numbers. However, they are structured as strings and need to be turned into integers. This is the 4th and 5th columns."
   ]
  },
  {
   "cell_type": "code",
   "execution_count": 20,
   "metadata": {},
   "outputs": [],
   "source": [
    "#[print(data[i][5],data[i][6]) for i in range(n)]\n",
    "\n",
    "#exam = data[100][5]\n",
    "def getnumber(exam):\n",
    "    \"\"\"This function takes a string as an input. It outputs the number inside the string that represents either box ofice or budget\n",
    "    Missing values are set to unknown\"\"\"\n",
    "    if pd.isna(exam)==True:\n",
    "        return(\"unknown\")\n",
    "    if exam.find(\"₤\")==-1 and exam.find(\"£\")==-1:\n",
    "        start = exam.find(\"$\")\n",
    "    if exam.find(\"£\")>-1:\n",
    "        start = exam.find(\"£\")\n",
    "    if exam.find(\"₤\")>-1:\n",
    "        start = exam.find(\"₤\") #finds first pounds or dollar sign\n",
    "    for i in range(start+1,len(exam)):\n",
    "        if exam[i] not in [\"0\",\"1\",\"2\",\"3\",\"4\",\"5\",\"6\",\"7\",\"8\",\"9\",\",\",\".\"]: #first character after dollar sign that isnt part of numebr\n",
    "            if exam[i]==exam[-1]:\n",
    "                return(exam[start+1:i])\n",
    "            if exam[i]==\"–\" or exam[i]==\"-\":\n",
    "                if \"million\" in exam:\n",
    "                    return(float(exam[start+1:i])*1000000)\n",
    "                else:\n",
    "                    return(float(exam[start+1:i].replace(',', '')))\n",
    "                \n",
    "            if exam[i+1]==\"m\" and exam[i+2]==\"i\": #this means its in millions\n",
    "                return(float(exam[start+1:i])*1000000)\n",
    "            else:\n",
    "                return(exam[start+1:i])\n",
    "\n",
    "for i in range(data.shape[0]): #replaces string in data with number\n",
    "    data[i][5]=getnumber(data[i][5])\n",
    "    data[i][6]=getnumber(data[i][6])\n",
    "\n"
   ]
  },
  {
   "cell_type": "markdown",
   "metadata": {},
   "source": [
    "There are still a substantial amount of missing values. These will be inputed with the average for their year (most variation in box office and budget is from when the movie was made). The following cell creates a dictionary for box office and budget. The years are the tags in the dictionary and each tag corresponds to a list of box office or budge values for that year"
   ]
  },
  {
   "cell_type": "code",
   "execution_count": 21,
   "metadata": {},
   "outputs": [],
   "source": [
    "years = [data[i][12] for i in range(data.shape[0])]\n",
    "dbudget = {}\n",
    "dbox = {}\n",
    "for year in set(years):\n",
    "    dbudget[year] = []\n",
    "    dbox[year] = []\n",
    "    for i in range(data.shape[0]):\n",
    "        if data[i][12]==year:\n",
    "            if type(data[i][5])==float: \n",
    "                dbudget[year].append(data[i][5])\n",
    "            if type(data[i][6])==float:             \n",
    "                dbox[year].append(data[i][6])\n",
    "                          "
   ]
  },
  {
   "cell_type": "code",
   "execution_count": 22,
   "metadata": {},
   "outputs": [
    {
     "data": {
      "text/plain": [
       "(546, 15)"
      ]
     },
     "execution_count": 22,
     "metadata": {},
     "output_type": "execute_result"
    }
   ],
   "source": [
    "data.shape"
   ]
  },
  {
   "cell_type": "markdown",
   "metadata": {},
   "source": [
    "The following cell creates a dictionary of average budget and box office by year."
   ]
  },
  {
   "cell_type": "code",
   "execution_count": 23,
   "metadata": {},
   "outputs": [],
   "source": [
    "dbudavg = {}\n",
    "dboxavg = {}\n",
    "for year in set(years):\n",
    "    if len(dbudget[year])>0:\n",
    "        dbudavg[year] = sum(dbudget[year])/float(len(dbudget[year]))\n",
    "    else:\n",
    "        dbudavg[year] = dbudavg[year-1]\n",
    "for year in set(years):\n",
    "    if len(dbox[year])>0:\n",
    "        dboxavg[year] = sum(dbox[year])/float(len(dbox[year]))\n",
    "    else:\n",
    "        dboxavg[year] = dboxavg[year-1]"
   ]
  },
  {
   "cell_type": "markdown",
   "metadata": {},
   "source": [
    "The following cell imputes the missing values and creates new vectors boxvector (for box office ) and budvector (for budget). These vectors have the box office and budget per movie without any missing values and all of type float. These vectors are scaled to be between 0 and 1."
   ]
  },
  {
   "cell_type": "code",
   "execution_count": 24,
   "metadata": {},
   "outputs": [],
   "source": [
    "for i in range(n): #replaces string in data with number\n",
    "    train[i][5]=getnumber(train[i][5])\n",
    "    train[i][6]=getnumber(train[i][6])\n",
    "trainbudvect = []\n",
    "for i in range(n):\n",
    "    if type(train[i][5])==float:\n",
    "        trainbudvect.append(train[i][5])\n",
    "    else:\n",
    "        trainbudvect.append(dbudavg[train[i][12]])\n",
    "trainboxvect = []\n",
    "for i in range(n):\n",
    "    if type(train[i][6])==float:\n",
    "        trainboxvect.append(train[i][6])\n",
    "    else:\n",
    "        trainboxvect.append(dbudavg[train[i][12]])\n",
    "\n",
    "trainbudvect = [ trainbudvect[i]/ max(trainbudvect) for i in range(n)]# scaled to be between 0 and 1\n",
    "trainboxvect = [ trainboxvect[i]/ max(trainboxvect) for i in range(n)] # scaled to be between 0 and 1"
   ]
  },
  {
   "cell_type": "code",
   "execution_count": 25,
   "metadata": {},
   "outputs": [
    {
     "name": "stdout",
     "output_type": "stream",
     "text": [
      "382\n",
      "382\n"
     ]
    }
   ],
   "source": [
    "print(len(trainboxvect))\n",
    "print(len(trainbudvect))"
   ]
  },
  {
   "cell_type": "markdown",
   "metadata": {},
   "source": [
    "## Box Office and Budget: Test\n",
    "This section constructs box office and budget variables for the test set."
   ]
  },
  {
   "cell_type": "code",
   "execution_count": 26,
   "metadata": {},
   "outputs": [],
   "source": [
    "for i in range(nt): #replaces string in data with number\n",
    "    test[i][5]=getnumber(test[i][5])\n",
    "    test[i][6]=getnumber(test[i][6])\n",
    "    \n",
    "testbudvect = []\n",
    "for i in range(nt):\n",
    "    if type(test[i][5])==float:\n",
    "        testbudvect.append(test[i][5])\n",
    "    else:\n",
    "        testbudvect.append(dbudavg[test[i][12]])\n",
    "testboxvect = []\n",
    "for i in range(nt):\n",
    "    if type(test[i][6])==float:\n",
    "        testboxvect.append(test[i][6])\n",
    "    else:\n",
    "        testboxvect.append(dbudavg[test[i][12]])\n",
    "\n",
    "testbudvect = [ testbudvect[i]/ max(testbudvect) for i in range(nt)]# scaled to be between 0 and 1\n",
    "testboxvect = [ testboxvect[i]/ max(testboxvect) for i in range(nt)] # scaled to be between 0 and 1"
   ]
  },
  {
   "cell_type": "code",
   "execution_count": 27,
   "metadata": {},
   "outputs": [
    {
     "name": "stdout",
     "output_type": "stream",
     "text": [
      "164\n",
      "164\n"
     ]
    }
   ],
   "source": [
    "print(len(testboxvect))\n",
    "print(len(testbudvect))"
   ]
  },
  {
   "cell_type": "markdown",
   "metadata": {},
   "source": [
    "## Language\n",
    "This section creates a variable which is 1 if the movie in english language and 0 otherwise. It also creates a variable which is the number of languages credited in the movie. The vast majority of academy award nominees are English language movies. The cell below divides the string into a list of languages. These variables are combined into a 546 by 2 matrix called langvect. "
   ]
  },
  {
   "cell_type": "code",
   "execution_count": 28,
   "metadata": {},
   "outputs": [],
   "source": [
    "n = data.shape[0]\n",
    "for i in range(n):\n",
    "    data[i][8]=data[i][8].split(\"\\n\") #splits string by line breaks (this divides it into list of languages)\n",
    "    data[i][8]=list(filter(None, data[i][8])) #Takes out the empty strings "
   ]
  },
  {
   "cell_type": "markdown",
   "metadata": {},
   "source": [
    "The following cell constructs two variables. One indicates if the movie is in english or not (1 for english, 0 for not). The other vector is the number of languages credited in the movie. These movies are combined in a np array langvect"
   ]
  },
  {
   "cell_type": "code",
   "execution_count": 29,
   "metadata": {},
   "outputs": [],
   "source": [
    "langvect = [0 for i in range(n)]\n",
    "langnumvect = [0 for i in range(n)]\n",
    "for i in range(n):\n",
    "    langnumvect[i] = len(data[i][8])\n",
    "    for lang in data[i][8]:\n",
    "        if \"English\" in lang:\n",
    "            langvect[i] +=1\n",
    "langvect = np.column_stack((langvect, langnumvect))\n",
    "trainlangvect = np.take(langvect, trainindex)\n",
    "testlangvect = np.take(langvect, testindex)"
   ]
  },
  {
   "cell_type": "code",
   "execution_count": 30,
   "metadata": {},
   "outputs": [
    {
     "name": "stdout",
     "output_type": "stream",
     "text": [
      "(164,)\n",
      "(382,)\n"
     ]
    }
   ],
   "source": [
    "print(testlangvect.shape)\n",
    "print(trainlangvect.shape)"
   ]
  },
  {
   "cell_type": "markdown",
   "metadata": {},
   "source": [
    "## Runtime\n",
    "The follow cell cleans the data on movie runtime and creates a vector timevect with the movie runtimes as floats."
   ]
  },
  {
   "cell_type": "code",
   "execution_count": 31,
   "metadata": {},
   "outputs": [],
   "source": [
    "\n",
    "nums = [\"0\",\"1\",\"2\",\"3\",\"4\",\"5\",\"6\",\"7\",\"8\",\"9\"]\n",
    "runfloat = [0 for i in range(n)]\n",
    "def gettime(x):\n",
    "    \"\"\"Takes a string telling runtime and returns the length in mintutes of the movie\"\"\"\n",
    "    for j in range(len(x)):\n",
    "        if x[j] in nums:\n",
    "            if x[j+1]==\" \":\n",
    "                if x[j-2] in nums: #3 digit runtime\n",
    "                    return(float(x[j-2:j+1]))\n",
    "                else:\n",
    "                    return(float(x[j-1:j+1]))\n",
    "timevect = []\n",
    "for i in range(n):\n",
    "    timevect.append(gettime(data[i][9]))\n",
    "timevect[448] = float(221) #A few errors that have to changed manually\n",
    "timevect[380] = float(155)\n",
    "timevect[335] = float(96)\n",
    "timevect = np.array(timevect)\n",
    "traintimevect = np.take(timevect, trainindex)\n",
    "testtimevect = np.take(timevect, testindex)"
   ]
  },
  {
   "cell_type": "code",
   "execution_count": 32,
   "metadata": {},
   "outputs": [
    {
     "name": "stdout",
     "output_type": "stream",
     "text": [
      "(382,)\n",
      "(164,)\n"
     ]
    }
   ],
   "source": [
    "print(traintimevect.shape)\n",
    "print(testtimevect.shape)"
   ]
  },
  {
   "cell_type": "markdown",
   "metadata": {},
   "source": [
    "## Year\n",
    "The year variable is changed to years since 1927, the beginning of the academy awards. This is stored in yearvect."
   ]
  },
  {
   "cell_type": "code",
   "execution_count": 33,
   "metadata": {},
   "outputs": [
    {
     "name": "stdout",
     "output_type": "stream",
     "text": [
      "(382,)\n",
      "(164,)\n"
     ]
    }
   ],
   "source": [
    "yearvect = [data[i][12]-1927 for i in range(n)]\n",
    "yearvect = np.array(yearvect)\n",
    "trainyearvect = np.take(yearvect, trainindex)\n",
    "testyearvect = np.take(yearvect, testindex)\n",
    "print(trainyearvect.shape)\n",
    "print(testyearvect.shape)"
   ]
  },
  {
   "cell_type": "markdown",
   "metadata": {},
   "source": [
    "## Rating\n",
    "This section takes the string sraped from imdb and extracts the rating from this. The rating is on a scale of 0 to 10. 10 being the best. The ratings are stored in ratevect."
   ]
  },
  {
   "cell_type": "code",
   "execution_count": 34,
   "metadata": {},
   "outputs": [
    {
     "name": "stdout",
     "output_type": "stream",
     "text": [
      "(382,)\n",
      "(164,)\n"
     ]
    }
   ],
   "source": [
    "def getrating(x):\n",
    "    \"\"\"Takes a string giving imdb rating and extracts the rating as a float. If the input is actually already an \n",
    "    int or a float. That number is returned as a float\"\"\"\n",
    "    if type(x)==int or type(x)==float: #one rating comes as int not string\n",
    "        return(float(x))\n",
    "    for i in range(len(x)):\n",
    "        if x[i] in nums:\n",
    "            if i+2 < len(x):\n",
    "                if x[i+1]==\".\":\n",
    "                    return(float(x[i:i+3]))\n",
    "            else: \n",
    "                return(float(x[i]))\n",
    "ratevect = []\n",
    "for i in range(n): \n",
    "    ratevect.append(getrating(data[i][13]))\n",
    "ratevect = np.array(ratevect)\n",
    "trainratevect = np.take(ratevect, trainindex)\n",
    "testratevect = np.take(ratevect, testindex)\n",
    "print(trainratevect.shape)\n",
    "print(testratevect.shape)"
   ]
  },
  {
   "cell_type": "code",
   "execution_count": 35,
   "metadata": {},
   "outputs": [
    {
     "name": "stdout",
     "output_type": "stream",
     "text": [
      "The mean imdb rating is 7.618848167539272\n"
     ]
    }
   ],
   "source": [
    "print(\"The mean imdb rating is\", sum(trainratevect)/len(trainratevect))"
   ]
  },
  {
   "cell_type": "markdown",
   "metadata": {},
   "source": [
    "## Genres\n",
    "The following cell breaks the string of generes into a list of genres for each movie. "
   ]
  },
  {
   "cell_type": "code",
   "execution_count": 36,
   "metadata": {},
   "outputs": [],
   "source": [
    "n = len(trainindex)\n",
    "for i in range(n):\n",
    "    train[i][14]=train[i][14].split(\",\") #splits string by commas breaks (this divides it into list of genres)\n",
    "    train[i][14]=list(filter(None, train[i][14])) #Takes out the empty strings \n",
    "for i in range(data.shape[0]):\n",
    "    data[i][14]=data[i][14].split(\",\") #splits string by commas breaks (this divides it into list of genres)\n",
    "    data[i][14]=list(filter(None, data[i][14])) #Takes out the empty strings "
   ]
  },
  {
   "cell_type": "markdown",
   "metadata": {},
   "source": [
    "The following cell creates a list (called totalgenres) containing all the possible generes without duplicates. There are 37 genres in the training set."
   ]
  },
  {
   "cell_type": "code",
   "execution_count": 37,
   "metadata": {},
   "outputs": [
    {
     "name": "stdout",
     "output_type": "stream",
     "text": [
      "39\n"
     ]
    }
   ],
   "source": [
    "totalgenres = []\n",
    "for i in range(n):\n",
    "    for item in train[i][14]:\n",
    "        totalgenres.append(item)\n",
    "totalgenres = list(set(totalgenres))\n",
    "print(len(totalgenres))"
   ]
  },
  {
   "cell_type": "markdown",
   "metadata": {},
   "source": [
    "For each genre, a variable is created that is 1 if the genre is a genre for that movie and 0 otherwise. Note that most movies have multiple genres."
   ]
  },
  {
   "cell_type": "code",
   "execution_count": 38,
   "metadata": {},
   "outputs": [],
   "source": [
    "genvect = [[0 for j in range(len(totalgenres))] for i in range(data.shape[0])]\n",
    "for i in range(data.shape[0]): \n",
    "    for j in range(len(totalgenres)):\n",
    "        if totalgenres[j] in data[i][14]:\n",
    "            genvect[i][j] = 1\n",
    "            \n",
    "genvect = np.array(genvect)\n",
    "traingenvect = np.take(genvect, trainindex, axis=0)\n",
    "testgenvect = np.take(genvect, testindex, axis=0)"
   ]
  },
  {
   "cell_type": "code",
   "execution_count": 39,
   "metadata": {},
   "outputs": [
    {
     "name": "stdout",
     "output_type": "stream",
     "text": [
      "(382, 39)\n",
      "(164, 39)\n",
      "[[0 0 0 ... 0 1 0]\n",
      " [0 0 0 ... 0 1 0]\n",
      " [0 0 0 ... 0 1 1]\n",
      " ...\n",
      " [0 0 0 ... 0 1 0]\n",
      " [0 0 0 ... 0 1 0]\n",
      " [0 0 0 ... 0 1 0]]\n"
     ]
    }
   ],
   "source": [
    "print(traingenvect.shape)\n",
    "print(testgenvect.shape)\n",
    "print(genvect)"
   ]
  },
  {
   "cell_type": "markdown",
   "metadata": {},
   "source": [
    "The final data is a matrix of 0s and 1s. One column for each genre and one row for each movie. This is stored in genvect."
   ]
  },
  {
   "cell_type": "markdown",
   "metadata": {},
   "source": [
    "## Plot: Train\n",
    "Plot summaries are from wikipedia, so they are collectively edited by a large number of people to insure homogeneity and accuracy. This variable has a long string which summarizes the plot of each movie. Term frequency times inverse document frequency is used as a measure of the prevalence of a word (or n-gram of words) in each document. The final result is a matrix where each row is a movie and each column is the prevalence of a given feature (word or n-gram of words, it is currently set to examine 1-grams of words and 2-grams) in that document. The TfidfVectorizer computes this matrix as stores it as a sparse matrix. We call this matrix plotvec, the vectorized plot summaries."
   ]
  },
  {
   "cell_type": "code",
   "execution_count": 40,
   "metadata": {},
   "outputs": [],
   "source": [
    "n = len(trainindex)\n",
    "from sklearn.feature_extraction.text import TfidfVectorizer\n",
    "plots = [train[i][10] for i in range(n)]"
   ]
  },
  {
   "cell_type": "code",
   "execution_count": 41,
   "metadata": {},
   "outputs": [],
   "source": [
    "textplot = TfidfVectorizer(ngram_range=(1, 2))\n",
    "textplot.fit(plots)\n",
    "trainplotvect = textplot.transform(plots)"
   ]
  },
  {
   "cell_type": "code",
   "execution_count": 42,
   "metadata": {},
   "outputs": [
    {
     "name": "stdout",
     "output_type": "stream",
     "text": [
      "(382, 151543)\n"
     ]
    }
   ],
   "source": [
    "print(trainplotvect.shape)"
   ]
  },
  {
   "cell_type": "markdown",
   "metadata": {},
   "source": [
    "Note that this matrix is very large, but it is also very sparse."
   ]
  },
  {
   "cell_type": "markdown",
   "metadata": {},
   "source": [
    "## Plot: Test\n",
    "The vectorizor that was fit to the training set is now applied to the test set. This yields a measure of the frequency of the words (features) chosen from the train set inside the test set of plots. "
   ]
  },
  {
   "cell_type": "code",
   "execution_count": 43,
   "metadata": {},
   "outputs": [
    {
     "name": "stdout",
     "output_type": "stream",
     "text": [
      "(164, 151543)\n"
     ]
    }
   ],
   "source": [
    "testplots = [test[i][10] for i in range(nt)]\n",
    "testplotvect=textplot.transform(testplots)\n",
    "print(testplotvect.shape)"
   ]
  },
  {
   "cell_type": "markdown",
   "metadata": {},
   "source": [
    "## Response (Winner of Academy Award)\n",
    "The following cell creates vectors for the respone on the test and training dataset. This variable is 1 if the movie was an academy award for best picture winner."
   ]
  },
  {
   "cell_type": "code",
   "execution_count": 44,
   "metadata": {},
   "outputs": [
    {
     "name": "stdout",
     "output_type": "stream",
     "text": [
      "(382,) (164,)\n"
     ]
    }
   ],
   "source": [
    "n = data.shape[0]\n",
    "resp = [data[i][11] for i in range(n)]\n",
    "trainresp = np.take(resp, trainindex, axis=0)\n",
    "testresp = np.take(resp, testindex, axis=0)\n",
    "print(trainresp.shape, testresp.shape)"
   ]
  },
  {
   "cell_type": "markdown",
   "metadata": {},
   "source": [
    "# Final Vectorized Data Matrix: Train\n",
    "The following cell computes the final data matrix for the training set, combining the variables cleaned and vectorized above."
   ]
  },
  {
   "cell_type": "code",
   "execution_count": 45,
   "metadata": {},
   "outputs": [],
   "source": [
    "traindatavect = np.column_stack((traindirectvect,trainprodvect,traincreatvect,trainactvect,trainbudvect,trainboxvect,trainlangvect, traintimevect,trainyearvect,trainratevect, traingenvect,trainplotvect.A))\n"
   ]
  },
  {
   "cell_type": "code",
   "execution_count": 46,
   "metadata": {},
   "outputs": [
    {
     "name": "stdout",
     "output_type": "stream",
     "text": [
      "(382, 152197)\n"
     ]
    }
   ],
   "source": [
    "print(traindatavect.shape)"
   ]
  },
  {
   "cell_type": "markdown",
   "metadata": {},
   "source": [
    "# Final Vectorized Data Matrix: Test\n",
    "The following cell computes the final data matrix for the test set, combining the variables cleaned and vectorized above."
   ]
  },
  {
   "cell_type": "code",
   "execution_count": 47,
   "metadata": {},
   "outputs": [],
   "source": [
    "testdatavect = np.column_stack((testdirectvect,testprodvect,testcreatvect,testactvect,testbudvect,testboxvect,testlangvect, testtimevect,testyearvect,testratevect, testgenvect,testplotvect.A))\n"
   ]
  },
  {
   "cell_type": "code",
   "execution_count": 48,
   "metadata": {},
   "outputs": [
    {
     "name": "stdout",
     "output_type": "stream",
     "text": [
      "(164, 152197)\n"
     ]
    }
   ],
   "source": [
    "print(testdatavect.shape)"
   ]
  },
  {
   "cell_type": "markdown",
   "metadata": {},
   "source": [
    "# Data Visualization and Exploratory Data Analysis\n",
    "This section explores and provides visual representations of the data."
   ]
  },
  {
   "cell_type": "code",
   "execution_count": 49,
   "metadata": {},
   "outputs": [
    {
     "name": "stderr",
     "output_type": "stream",
     "text": [
      "/Users/douglasturner/anaconda3/lib/python3.6/site-packages/statsmodels/compat/pandas.py:56: FutureWarning: The pandas.core.datetools module is deprecated and will be removed in a future version. Please use the pandas.tseries module instead.\n",
      "  from pandas.core import datetools\n"
     ]
    }
   ],
   "source": [
    "import matplotlib.pyplot as plt\n",
    "import sklearn as sk\n",
    "from sklearn.linear_model import LinearRegression\n",
    "import statsmodels.api as sm\n",
    "plt.style.use('ggplot')"
   ]
  },
  {
   "cell_type": "code",
   "execution_count": 50,
   "metadata": {},
   "outputs": [
    {
     "data": {
      "image/png": "[encoded data removed]",
      "text/plain": [
       "<matplotlib.figure.Figure at 0x11415deb8>"
      ]
     },
     "metadata": {},
     "output_type": "display_data"
    },
    {
     "name": "stdout",
     "output_type": "stream",
     "text": [
      "[[1.         0.27688301]\n",
      " [0.27688301 1.        ]]\n"
     ]
    }
   ],
   "source": [
    "plt.figure(figsize=(15,7))\n",
    "plt.scatter(yearvect+1927,ratevect)\n",
    "plt.title(\"IMDB Rating vs. Year Released\")\n",
    "plt.xlabel(\"Year Released\")\n",
    "plt.ylabel(\"IMDB Rating\")\n",
    "plt.show()\n",
    "\n",
    "print(np.corrcoef(ratevect,yearvect))"
   ]
  },
  {
   "cell_type": "markdown",
   "metadata": {},
   "source": [
    "The above scatterplot plots year of release on the $x$-axis vs. IMDB rating on the $y$-axis. As we can see from the plot, ratings are relatively homogenous over the decades, although there are a few trends that we take note of. Movies prior to 1940 seem to have a lower rating on average than the rest, and movies within the past ten or so years have noticeably less variation in their ratings. The largest amount of variation in ratings occurs roughly between 1955 and 1995.\n",
    "\n",
    "There is a weak correlation between year of release and IMDB rating - nominated movies from later years tend to have a higher rating."
   ]
  },
  {
   "cell_type": "code",
   "execution_count": 51,
   "metadata": {},
   "outputs": [
    {
     "data": {
      "image/png": "[encoded data removed]",
      "text/plain": [
       "<matplotlib.figure.Figure at 0x1141d04a8>"
      ]
     },
     "metadata": {},
     "output_type": "display_data"
    },
    {
     "name": "stdout",
     "output_type": "stream",
     "text": [
      "[[1.         0.24389636]\n",
      " [0.24389636 1.        ]]\n"
     ]
    }
   ],
   "source": [
    "plt.figure(figsize=(15,7))\n",
    "plt.scatter(yearvect+1927,timevect)\n",
    "plt.title(\"Movie Runtime vs. Year Released\")\n",
    "plt.xlabel(\"Year Released\")\n",
    "plt.ylabel(\"Runtime (min.)\")\n",
    "plt.show()\n",
    "\n",
    "print(np.corrcoef(yearvect,timevect))"
   ]
  },
  {
   "cell_type": "markdown",
   "metadata": {},
   "source": [
    "As we can see from the above scatterplot, movie length (runtime) seems to have some relationship with year of release, with movies prior to 1958 or so having noticeably shorter runtimes on average than those after 1958. From 1970 onwards, the distribution of runtimes relative to year of release appears very homogenous.\n",
    "\n",
    "There is a weak correlation between year of release and runtime - nominated movies from later years tend to be longer."
   ]
  },
  {
   "cell_type": "code",
   "execution_count": 52,
   "metadata": {},
   "outputs": [
    {
     "data": {
      "image/png": "[encoded data removed]",
      "text/plain": [
       "<matplotlib.figure.Figure at 0x11415ddd8>"
      ]
     },
     "metadata": {},
     "output_type": "display_data"
    }
   ],
   "source": [
    "plt.figure(figsize=(15,7))\n",
    "plt.scatter(timevect,ratevect)\n",
    "plt.title(\"IMDB Rating vs. Movie Runtime\")\n",
    "plt.xlabel(\"Runtime (min.)\")\n",
    "plt.ylabel(\"IMDB Rating\")\n",
    "plt.show()"
   ]
  },
  {
   "cell_type": "code",
   "execution_count": 53,
   "metadata": {},
   "outputs": [
    {
     "name": "stdout",
     "output_type": "stream",
     "text": [
      "0.26824590310814816\n",
      "[[1.        0.2682459]\n",
      " [0.2682459 1.       ]]\n"
     ]
    }
   ],
   "source": [
    "# sqrt(r^2) from regression\n",
    "linReg = LinearRegression()\n",
    "linReg.fit(timevect.reshape(-1,1),ratevect)\n",
    "fitted = linReg.predict(timevect.reshape(-1,1))\n",
    "print(np.sqrt(sk.metrics.r2_score(ratevect,fitted)))\n",
    "\n",
    "# directly calculate correlation\n",
    "print(np.corrcoef(ratevect,timevect))"
   ]
  },
  {
   "cell_type": "markdown",
   "metadata": {},
   "source": [
    "There appears to be somewhat of a positive correlation ($r=0.268$) between movie runtime and rating; among movies nominated for an Academy Award, longer ones seem to enjoy a slight advantage when it comes to rating."
   ]
  },
  {
   "cell_type": "code",
   "execution_count": 54,
   "metadata": {},
   "outputs": [
    {
     "data": {
      "image/png": "[encoded data removed]",
      "text/plain": [
       "<matplotlib.figure.Figure at 0x1142fc828>"
      ]
     },
     "metadata": {},
     "output_type": "display_data"
    }
   ],
   "source": [
    "plt.figure(figsize=(15,7))\n",
    "# create vectors for budget and box office (training + test data combined)\n",
    "budvect = trainbudvect + testbudvect\n",
    "boxvect = trainboxvect + testboxvect\n",
    "\n",
    "plt.scatter(budvect,boxvect)\n",
    "plt.title(\"Box Office vs. Budget\")\n",
    "plt.xlabel(\"Budget (scaled between 0 and 1)\")\n",
    "plt.ylabel(\"Box Office (scaled between 0 and 1)\")\n",
    "plt.show()"
   ]
  },
  {
   "cell_type": "code",
   "execution_count": 55,
   "metadata": {},
   "outputs": [
    {
     "data": {
      "text/plain": [
       "array([[1.        , 0.58300722],\n",
       "       [0.58300722, 1.        ]])"
      ]
     },
     "execution_count": 55,
     "metadata": {},
     "output_type": "execute_result"
    }
   ],
   "source": [
    "np.corrcoef(budvect,boxvect)"
   ]
  },
  {
   "cell_type": "markdown",
   "metadata": {},
   "source": [
    "As one might expect, there is a medium-strength correlation between the movies' budget and box office return ($r=0.583$). Note that the budget and box office figures have been rescaled to be between 0 and 1 (for each movie, its budget/box office is divided by the maximum budget/box office among all movies). The majority of movies have relatively low budget and box office figures compared to the maximum (less than 20% of the maximum budget and less than 40% of the maximum box office)."
   ]
  },
  {
   "cell_type": "markdown",
   "metadata": {},
   "source": [
    "## Visualizations of the response variable with the predictors"
   ]
  },
  {
   "cell_type": "code",
   "execution_count": 56,
   "metadata": {},
   "outputs": [
    {
     "data": {
      "image/png": "[encoded data removed]",
      "text/plain": [
       "<matplotlib.figure.Figure at 0x1143cb710>"
      ]
     },
     "metadata": {},
     "output_type": "display_data"
    }
   ],
   "source": [
    "plt.figure(figsize=(10,7))\n",
    "plt.scatter(ratevect,resp)\n",
    "clf1 = sk.linear_model.LogisticRegression()\n",
    "clf1.fit(ratevect.reshape(-1,1),resp)\n",
    "# fitted = clf1.predict_proba(ratevect.reshape(-1,1))[:,1]\n",
    "\n",
    "xvals = np.arange(5.5,9.5,0.01)\n",
    "fitted = clf1.predict_proba(xvals.reshape(-1,1))[:,1]\n",
    "plt.plot(xvals,fitted)\n",
    "\n",
    "plt.title(\"Academy Award Winner vs. IMDB Rating\")\n",
    "plt.xlabel(\"IMDB Rating\")\n",
    "plt.ylabel(\"Won Academy Award\")\n",
    "plt.show()"
   ]
  },
  {
   "cell_type": "markdown",
   "metadata": {},
   "source": [
    "Using logistic regression, we see that there is a slight relationship between IMDB rating and whether a movie won the Academy Award, though perhaps not as much as we would expect. (An interval of 0 to 100, though meaningless, shows the logistic curve with the familiar 'S' shape.)\n",
    "\n",
    "Next, let's take a look at the relationship between runtime and whether a nominated film won the Academy Award."
   ]
  },
  {
   "cell_type": "code",
   "execution_count": 57,
   "metadata": {},
   "outputs": [
    {
     "data": {
      "image/png": "[encoded data removed]",
      "text/plain": [
       "<matplotlib.figure.Figure at 0x1164dbfd0>"
      ]
     },
     "metadata": {},
     "output_type": "display_data"
    }
   ],
   "source": [
    "plt.figure(figsize=(10,7))\n",
    "plt.scatter(timevect,resp)\n",
    "clf = sk.linear_model.LogisticRegression()\n",
    "clf.fit(timevect.reshape(-1,1),resp)\n",
    "\n",
    "xvals = np.arange(50,250,0.1)\n",
    "fitted = clf.predict_proba(xvals.reshape(-1,1))[:,1]\n",
    "plt.plot(xvals,fitted)\n",
    "plt.title(\"Academy Award Winner vs. Runtime\")\n",
    "plt.xlabel(\"Runtime (min)\")\n",
    "plt.ylabel(\"Won Academy Award\")\n",
    "plt.show()"
   ]
  },
  {
   "cell_type": "markdown",
   "metadata": {},
   "source": [
    "Interestingly, there appears to be a noticeable relationship between a nominated movie's runtime and whether it won the Academy Award: longer movies were more often winners.\n",
    "\n",
    "Next, let's take a look at the relationship between budget/box office and whether a nominated film won the Academy Award."
   ]
  },
  {
   "cell_type": "code",
   "execution_count": 58,
   "metadata": {},
   "outputs": [
    {
     "data": {
      "image/png": "[encoded data removed]",
      "text/plain": [
       "<matplotlib.figure.Figure at 0x11657d208>"
      ]
     },
     "metadata": {},
     "output_type": "display_data"
    }
   ],
   "source": [
    "plt.figure(figsize=(15,7))\n",
    "\n",
    "# budget\n",
    "plt.subplot(1,2,1)\n",
    "plt.scatter(budvect,resp)\n",
    "clf2 = sk.linear_model.LogisticRegression()\n",
    "clf2.fit(np.array(budvect).reshape(-1,1),resp)\n",
    "xvals = np.arange(0,1,0.01)\n",
    "fitted = clf2.predict_proba(xvals.reshape(-1,1))[:,1]\n",
    "plt.plot(xvals,fitted)\n",
    "plt.title(\"Academy Award Winner vs. Budget\")\n",
    "plt.xlabel(\"Budget (scaled between 0 and 1)\")\n",
    "plt.ylabel(\"Won Academy Award\")\n",
    "\n",
    "# box office\n",
    "plt.subplot(1,2,2)\n",
    "plt.scatter(boxvect,resp)\n",
    "clf3 = sk.linear_model.LogisticRegression()\n",
    "clf3.fit(np.array(boxvect).reshape(-1,1),resp)\n",
    "xvals = np.arange(0,1,0.01)\n",
    "fitted = clf3.predict_proba(xvals.reshape(-1,1))[:,1]\n",
    "plt.plot(xvals,fitted)\n",
    "plt.title(\"Academy Award Winner vs. Box Office\")\n",
    "plt.xlabel(\"Box Office (scaled between 0 and 1)\")\n",
    "plt.ylabel(\"Won Academy Award\")\n",
    "\n",
    "plt.show()"
   ]
  },
  {
   "cell_type": "markdown",
   "metadata": {},
   "source": [
    "We see that there is a positive relationship between a nominated movie's budget/box office and whether it won the Academy Award; of the two, box office has a stronger relationship. Intuitively, this is a reasonable conclusion since although budget correlates with box office, a movie's box office figure is decided after the movie is released, and is based on the quality of the movie as well as its popularity. Box office appears to also have a stronger relationship with the response than the IMDB rating does.\n",
    "\n",
    "Next, let's look at how the winners are divided by genre."
   ]
  },
  {
   "cell_type": "code",
   "execution_count": 59,
   "metadata": {},
   "outputs": [],
   "source": [
    "genreList = data[:,14]\n",
    "\n",
    "# total number of occurrences of each genre\n",
    "genreCounts = {}\n",
    "for i in range(len(genreList)):\n",
    "    for genre in genreList[i]:\n",
    "        if genre in genreCounts.keys():\n",
    "            genreCounts[genre] += 1\n",
    "        elif genre not in genreCounts.keys():\n",
    "            genreCounts[genre] = 1\n",
    "\n",
    "# number of wins for each genre\n",
    "genreWinCounts = {}\n",
    "for i in range(len(genreList)):\n",
    "    for genre in genreList[i]:\n",
    "        if genre in genreWinCounts.keys():\n",
    "            if resp[i] == 1:\n",
    "                genreWinCounts[genre] += 1\n",
    "        elif genre not in genreWinCounts.keys():\n",
    "            if resp[i] == 1:\n",
    "                genreWinCounts[genre] = 1\n",
    "                \n",
    "# need to clean up a bit... e.g., 'Dra' should be 'Drama', etc.\n",
    "genreCounts[' Drama'] += genreCounts[' Dra'] + genreCounts['Drama']\n",
    "del genreCounts[' Dra']\n",
    "del genreCounts['Drama']\n",
    "genreCounts[' Comedy'] += genreCounts['Comedy']\n",
    "del genreCounts['Comedy']\n",
    "genreCounts[' Fantasy'] += genreCounts[' Fanta']\n",
    "del genreCounts[' Fanta']\n",
    "genreCounts[' Sci-Fi'] += genreCounts[' Sci-'] + genreCounts['Sci fi']\n",
    "del genreCounts['Sci fi']\n",
    "del genreCounts[' Sci-']\n",
    "genreCounts[' Horror'] += genreCounts[' Horr']\n",
    "del genreCounts[' Horr']\n",
    "genreCounts[' Film-Noir'] += genreCounts[' Film-No']\n",
    "del genreCounts[' Film-No']\n",
    "genreCounts[' Crime'] += genreCounts[' Cri'] + genreCounts['Crime']\n",
    "del genreCounts[' Cri']\n",
    "del genreCounts['Crime']\n",
    "genreCounts[' Western'] += genreCounts[' W'] + genreCounts[' Weste']\n",
    "del genreCounts[' W']\n",
    "del genreCounts[' Weste']\n",
    "genreCounts[' Mystery'] += genreCounts[' Myste']\n",
    "del genreCounts[' Myste']\n",
    "genreCounts[' Family'] += genreCounts[' Fami']\n",
    "del genreCounts[' Fami']\n",
    "genreCounts[' History'] += genreCounts[' Histo']\n",
    "del genreCounts[' Histo']\n",
    "genreCounts[' Sport'] += genreCounts[' Spo']\n",
    "del genreCounts[' Spo']\n",
    "genreCounts[' Musical'] += genreCounts[' Music']\n",
    "del genreCounts[' Music']\n",
    "genreCounts[' Action'] += genreCounts['Action']\n",
    "del genreCounts['Action']\n",
    "genreCounts[' Adventure'] += genreCounts['Adventure']\n",
    "del genreCounts['Adventure']\n",
    "genreCounts[' Romance'] += genreCounts[' Roman']\n",
    "del genreCounts[' Roman']\n",
    "\n",
    "genreWinCounts[' Film-Noir'] += genreWinCounts[' Film-No']\n",
    "del genreWinCounts[' Film-No']\n",
    "genreWinCounts[' Western'] += genreWinCounts[' Weste'] + genreWinCounts[' W']\n",
    "del genreWinCounts[' Weste']\n",
    "del genreWinCounts[' W']\n",
    "genreWinCounts[' Family'] += genreWinCounts[' Fami']\n",
    "del genreWinCounts[' Fami']\n",
    "genreWinCounts[' Mystery'] += genreWinCounts[' Myste']\n",
    "del genreWinCounts[' Myste']\n",
    "genreWinCounts[' Crime'] += genreWinCounts['Crime']\n",
    "del genreWinCounts['Crime']\n",
    "genreWinCounts[' Musical'] += genreWinCounts[' Music']\n",
    "del genreWinCounts[' Music']\n",
    "genreWinCounts[' Drama'] += genreWinCounts[' Dra'] + genreWinCounts['Drama']\n",
    "del genreWinCounts[' Dra']\n",
    "del genreWinCounts['Drama']\n",
    "genreWinCounts[' Romance'] += genreWinCounts[' Roman']\n",
    "del genreWinCounts[' Roman']"
   ]
  },
  {
   "cell_type": "code",
   "execution_count": 60,
   "metadata": {},
   "outputs": [
    {
     "name": "stdout",
     "output_type": "stream",
     "text": [
      "{' Drama': 477, ' Biography': 102, ' History': 70, ' Action': 26, ' Horror': 2, ' Mystery': 24, ' Thriller': 30, ' Adventure': 62, ' Fantasy': 26, ' Comedy': 115, ' Romance': 169, ' Crime': 64, ' Sci-Fi': 9, ' Western': 16, ' Musical': 51, ' Family': 25, ' Sport': 10, ' War': 39, ' Animation': 3, ' Thrill': 3, ' Film-Noir': 14, ' Political': 1}\n",
      "{' Adventure': 10, ' Drama': 84, ' Fantasy': 2, ' Crime': 13, ' History': 13, ' Comedy': 15, ' Biography': 18, ' Thriller': 6, ' Romance': 25, ' Sport': 3, ' Musical': 9, ' Action': 2, ' War': 10, ' Western': 5, ' Family': 6, ' Film-Noir': 2, ' Mystery': 2}\n"
     ]
    }
   ],
   "source": [
    "print(genreCounts)\n",
    "print(genreWinCounts)"
   ]
  },
  {
   "cell_type": "markdown",
   "metadata": {},
   "source": [
    "Above are counts of the number of occurrances of each genre in Academy Award nominees. This is followed by the occurances of each genre in academy award winning movies."
   ]
  },
  {
   "cell_type": "code",
   "execution_count": 61,
   "metadata": {},
   "outputs": [
    {
     "name": "stdout",
     "output_type": "stream",
     "text": [
      "{' Drama': 393, ' Biography': 84, ' History': 57, ' Action': 24, ' Horror': 2, ' Mystery': 22, ' Thriller': 24, ' Adventure': 52, ' Fantasy': 24, ' Comedy': 100, ' Romance': 144, ' Crime': 51, ' Sci-Fi': 9, ' Western': 11, ' Musical': 42, ' Family': 19, ' Sport': 7, ' War': 29, ' Animation': 3, ' Thrill': 3, ' Film-Noir': 12, ' Political': 1}\n"
     ]
    }
   ],
   "source": [
    "# number of losses for each genre\n",
    "genreLossCounts = dict(genreCounts)\n",
    "for genre in genreCounts:\n",
    "    if genre in genreWinCounts.keys():\n",
    "        genreLossCounts[genre] -= genreWinCounts[genre]\n",
    "print(genreLossCounts)"
   ]
  },
  {
   "cell_type": "markdown",
   "metadata": {},
   "source": [
    "Above are counts of the number of occurances of each genre in Academy Award nominated movies that lost."
   ]
  },
  {
   "cell_type": "code",
   "execution_count": 62,
   "metadata": {},
   "outputs": [
    {
     "name": "stdout",
     "output_type": "stream",
     "text": [
      "{' Drama': 84, ' Biography': 18, ' History': 13, ' Action': 2, ' Horror': 0, ' Mystery': 2, ' Thriller': 6, ' Adventure': 10, ' Fantasy': 2, ' Comedy': 15, ' Romance': 25, ' Crime': 13, ' Sci-Fi': 0, ' Western': 5, ' Musical': 9, ' Family': 6, ' Sport': 3, ' War': 10, ' Animation': 0, ' Thrill': 0, ' Film-Noir': 2, ' Political': 0}\n"
     ]
    }
   ],
   "source": [
    "# need to make the win counts in a format that can be plotted properly...\n",
    "# i.e., same order of genres, some with zeroes\n",
    "genreWinCountsPlot = dict(genreCounts)\n",
    "for genre in genreCounts:\n",
    "    if genre in genreWinCounts.keys():\n",
    "        genreWinCountsPlot[genre] = genreWinCounts[genre]\n",
    "    else:\n",
    "        genreWinCountsPlot[genre] = 0\n",
    "print(genreWinCountsPlot)"
   ]
  },
  {
   "cell_type": "code",
   "execution_count": 63,
   "metadata": {},
   "outputs": [
    {
     "data": {
      "image/png": "[encoded data removed]",
      "text/plain": [
       "<matplotlib.figure.Figure at 0x116606710>"
      ]
     },
     "metadata": {},
     "output_type": "display_data"
    },
    {
     "data": {
      "text/html": [
       "<div>\n",
       "<style scoped>\n",
       "    .dataframe tbody tr th:only-of-type {\n",
       "        vertical-align: middle;\n",
       "    }\n",
       "\n",
       "    .dataframe tbody tr th {\n",
       "        vertical-align: top;\n",
       "    }\n",
       "\n",
       "    .dataframe thead th {\n",
       "        text-align: right;\n",
       "    }\n",
       "</style>\n",
       "<table border=\"1\" class=\"dataframe\">\n",
       "  <thead>\n",
       "    <tr style=\"text-align: right;\">\n",
       "      <th></th>\n",
       "      <th>Genre</th>\n",
       "      <th>Win Percentage</th>\n",
       "    </tr>\n",
       "  </thead>\n",
       "  <tbody>\n",
       "    <tr>\n",
       "      <th>0</th>\n",
       "      <td>Drama</td>\n",
       "      <td>0.176101</td>\n",
       "    </tr>\n",
       "    <tr>\n",
       "      <th>1</th>\n",
       "      <td>Biography</td>\n",
       "      <td>0.176471</td>\n",
       "    </tr>\n",
       "    <tr>\n",
       "      <th>2</th>\n",
       "      <td>History</td>\n",
       "      <td>0.185714</td>\n",
       "    </tr>\n",
       "    <tr>\n",
       "      <th>3</th>\n",
       "      <td>Action</td>\n",
       "      <td>0.076923</td>\n",
       "    </tr>\n",
       "    <tr>\n",
       "      <th>4</th>\n",
       "      <td>Horror</td>\n",
       "      <td>0.000000</td>\n",
       "    </tr>\n",
       "    <tr>\n",
       "      <th>5</th>\n",
       "      <td>Mystery</td>\n",
       "      <td>0.083333</td>\n",
       "    </tr>\n",
       "    <tr>\n",
       "      <th>6</th>\n",
       "      <td>Thriller</td>\n",
       "      <td>0.200000</td>\n",
       "    </tr>\n",
       "    <tr>\n",
       "      <th>7</th>\n",
       "      <td>Adventure</td>\n",
       "      <td>0.161290</td>\n",
       "    </tr>\n",
       "    <tr>\n",
       "      <th>8</th>\n",
       "      <td>Fantasy</td>\n",
       "      <td>0.076923</td>\n",
       "    </tr>\n",
       "    <tr>\n",
       "      <th>9</th>\n",
       "      <td>Comedy</td>\n",
       "      <td>0.130435</td>\n",
       "    </tr>\n",
       "    <tr>\n",
       "      <th>10</th>\n",
       "      <td>Romance</td>\n",
       "      <td>0.147929</td>\n",
       "    </tr>\n",
       "    <tr>\n",
       "      <th>11</th>\n",
       "      <td>Crime</td>\n",
       "      <td>0.203125</td>\n",
       "    </tr>\n",
       "    <tr>\n",
       "      <th>12</th>\n",
       "      <td>Sci-Fi</td>\n",
       "      <td>0.000000</td>\n",
       "    </tr>\n",
       "    <tr>\n",
       "      <th>13</th>\n",
       "      <td>Western</td>\n",
       "      <td>0.312500</td>\n",
       "    </tr>\n",
       "    <tr>\n",
       "      <th>14</th>\n",
       "      <td>Musical</td>\n",
       "      <td>0.176471</td>\n",
       "    </tr>\n",
       "    <tr>\n",
       "      <th>15</th>\n",
       "      <td>Family</td>\n",
       "      <td>0.240000</td>\n",
       "    </tr>\n",
       "    <tr>\n",
       "      <th>16</th>\n",
       "      <td>Sport</td>\n",
       "      <td>0.300000</td>\n",
       "    </tr>\n",
       "    <tr>\n",
       "      <th>17</th>\n",
       "      <td>War</td>\n",
       "      <td>0.256410</td>\n",
       "    </tr>\n",
       "    <tr>\n",
       "      <th>18</th>\n",
       "      <td>Animation</td>\n",
       "      <td>0.000000</td>\n",
       "    </tr>\n",
       "    <tr>\n",
       "      <th>19</th>\n",
       "      <td>Thrill</td>\n",
       "      <td>0.000000</td>\n",
       "    </tr>\n",
       "    <tr>\n",
       "      <th>20</th>\n",
       "      <td>Film-Noir</td>\n",
       "      <td>0.142857</td>\n",
       "    </tr>\n",
       "    <tr>\n",
       "      <th>21</th>\n",
       "      <td>Political</td>\n",
       "      <td>0.000000</td>\n",
       "    </tr>\n",
       "  </tbody>\n",
       "</table>\n",
       "</div>"
      ],
      "text/plain": [
       "         Genre  Win Percentage\n",
       "0        Drama        0.176101\n",
       "1    Biography        0.176471\n",
       "2      History        0.185714\n",
       "3       Action        0.076923\n",
       "4       Horror        0.000000\n",
       "5      Mystery        0.083333\n",
       "6     Thriller        0.200000\n",
       "7    Adventure        0.161290\n",
       "8      Fantasy        0.076923\n",
       "9       Comedy        0.130435\n",
       "10     Romance        0.147929\n",
       "11       Crime        0.203125\n",
       "12      Sci-Fi        0.000000\n",
       "13     Western        0.312500\n",
       "14     Musical        0.176471\n",
       "15      Family        0.240000\n",
       "16       Sport        0.300000\n",
       "17         War        0.256410\n",
       "18   Animation        0.000000\n",
       "19      Thrill        0.000000\n",
       "20   Film-Noir        0.142857\n",
       "21   Political        0.000000"
      ]
     },
     "execution_count": 63,
     "metadata": {},
     "output_type": "execute_result"
    }
   ],
   "source": [
    "# plot it\n",
    "plt.figure(figsize=(20,7))\n",
    "\n",
    "p1 = plt.bar(range(len(genreWinCountsPlot)),list(genreWinCountsPlot.values()))\n",
    "p2 = plt.bar(range(len(genreLossCounts)),list(genreLossCounts.values()),bottom=list(genreWinCountsPlot.values()))\n",
    "plt.title(\"Academy Award Results for Nominated Movies by Genre\")\n",
    "plt.xticks(range(len(genreWinCountsPlot)),list(genreWinCountsPlot.keys()))\n",
    "plt.ylabel(\"Number of Movies\")\n",
    "plt.legend((p1[0],p2[0]),(\"Won Academy Award\",\"Did not win Academy Award\"))\n",
    "\n",
    "plt.show()\n",
    "\n",
    "# calculate winning percentage for each genre\n",
    "genrePercents = dict(genreWinCountsPlot)\n",
    "for genre in genrePercents:\n",
    "    genrePercents[genre] = genreWinCountsPlot[genre]/genreCounts[genre]\n",
    "df = pd.DataFrame(list(genrePercents.items()),columns=[\"Genre\", \"Win Percentage\"])\n",
    "df"
   ]
  },
  {
   "cell_type": "markdown",
   "metadata": {},
   "source": [
    "First, we should note that many movies in our dataset have multiple genres. For the purposes of this visualization, all the genres of a movie are assigned a 'win' or a 'loss' depending on whether the movie won the Academy Award that year.\n",
    "\n",
    "It is immediately apparent that Drama is by far the most popular genre among nominated movies with over double the number of movies categorized as Drama comapred to the next-most popular genre (Romance). The overall win percentage is $\\frac{90}{546}=16.5\\%$.\n",
    "\n",
    "Romance (14.8%) and Comedy (13.0%) movies both have a below-average winrate despite fairly large sample sizes (169 and 115 respectively), while Drama (17.6%), Biography (17.6%), History (18.6%), and Crime (20.3%) all enjoy somewhat above-average winrates (sample sizes of 477, 102, 70, and 64, respectively).\n",
    "\n",
    "Two particular standouts genre are War and Western - war movies enjoy a winrate of 25.6% with a respectable sample size of 39, while Westerns have had a winrate of 31.2%, though with a small sample size (16).\n",
    "\n",
    "Action movies have performed poorly, with a 7.7% winrate out of 26 nominations.\n",
    "\n",
    "Five genres have movies that were nominated for an Academy Award, but have not yet won - these are Horror, Sci-Fi, Animation, Thrill, and Political. Among these, sci-fi movies have had the most opportunities, with 9 nominations being classified as sci-fi over the years.\n",
    "\n",
    "Next, let's take a look at how the winners were distributed by language."
   ]
  },
  {
   "cell_type": "code",
   "execution_count": 64,
   "metadata": {},
   "outputs": [
    {
     "name": "stdout",
     "output_type": "stream",
     "text": [
      "90 0 451 5\n"
     ]
    },
    {
     "data": {
      "image/png": "[encoded data removed]",
      "text/plain": [
       "<matplotlib.figure.Figure at 0x1164d12b0>"
      ]
     },
     "metadata": {},
     "output_type": "display_data"
    }
   ],
   "source": [
    "plt.figure(figsize=(10,7))\n",
    "\n",
    "langType = langvect[:,0]\n",
    "\n",
    "numEnglishWinners = 0\n",
    "numForeignWinners = 0\n",
    "numEnglishLosers = 0\n",
    "numForeignLosers = 0\n",
    "for i in range(len(langType)):\n",
    "    if langType[i] == 1 and resp[i] == 1:\n",
    "        numEnglishWinners += 1\n",
    "    elif langType[i] == 1 and resp[i] == 0:\n",
    "        numEnglishLosers += 1\n",
    "    elif langType[i] == 0 and resp[i] == 1:\n",
    "        numForeignWinners += 1\n",
    "    elif langType[i] == 0 and resp[i] == 0:\n",
    "        numForeignLosers += 1\n",
    "    \n",
    "print(numEnglishWinners,numForeignWinners,numEnglishLosers,numForeignLosers)\n",
    "\n",
    "p1 = plt.bar([0,1],[numEnglishWinners,numForeignWinners])\n",
    "p2 = plt.bar([0,1],[numEnglishLosers,numForeignLosers],bottom=[numEnglishWinners,numForeignWinners])\n",
    "plt.title(\"Academy Award Results for Nominated Movies by Language\")\n",
    "plt.xticks([0,1],(\"English\", \"Non-English\"))\n",
    "plt.ylabel(\"Number of Movies\")\n",
    "plt.legend((p1[0],p2[0]),(\"Won Academy Award\",\"Did not win Academy Award\"))\n",
    "plt.show()"
   ]
  },
  {
   "cell_type": "markdown",
   "metadata": {},
   "source": [
    "As we can see, there were only five non-English movies that were nominated for an Academy Award, and none of them ended up winning. Of the 541 English-language movies, there were 90 winners, representing 16.6% of that total number."
   ]
  },
  {
   "cell_type": "code",
   "execution_count": 65,
   "metadata": {},
   "outputs": [],
   "source": [
    "# import pandas as pd\n",
    "# from pandas.plotting import scatter_matrix\n",
    "\n",
    "# scatter_matrix(pd.DataFrame(np.column_stack((yearvect+1927, timevect, ratevect, budvect,boxvect))), alpha=1,figsize=(25,25))"
   ]
  },
  {
   "cell_type": "markdown",
   "metadata": {},
   "source": [
    "# Logistic Regression\n",
    "In this section, we perform logistic regression using a subset of the variables to determine which ones are significant in predicting whether a nominated movie wins the Academy Award."
   ]
  },
  {
   "cell_type": "code",
   "execution_count": 66,
   "metadata": {},
   "outputs": [
    {
     "name": "stdout",
     "output_type": "stream",
     "text": [
      "Optimization terminated successfully.\n",
      "         Current function value: 0.435600\n",
      "         Iterations 6\n",
      "                        Results: Logit\n",
      "===============================================================\n",
      "Model:              Logit            Pseudo R-squared: 0.027   \n",
      "Dependent Variable: y                AIC:              487.6751\n",
      "Date:               2018-06-01 18:55 BIC:              513.4909\n",
      "No. Observations:   546              Log-Likelihood:   -237.84 \n",
      "Df Model:           5                LL-Null:          -244.39 \n",
      "Df Residuals:       540              LLR p-value:      0.022409\n",
      "Converged:          1.0000           Scale:            1.0000  \n",
      "No. Iterations:     6.0000                                     \n",
      "-----------------------------------------------------------------\n",
      "         Coef.    Std.Err.      z      P>|z|     [0.025    0.975]\n",
      "-----------------------------------------------------------------\n",
      "x1      -0.1023     1.0668   -0.0959   0.9236   -2.1933    1.9886\n",
      "x2       1.4992     0.7994    1.8755   0.0607   -0.0675    3.0659\n",
      "x3      -1.8714     0.8033   -2.3297   0.0198   -3.4458   -0.2970\n",
      "x4       0.0152     0.0041    3.6794   0.0002    0.0071    0.0233\n",
      "x5      -0.0024     0.0045   -0.5411   0.5884   -0.0112    0.0063\n",
      "x6      -0.2275     0.1253   -1.8152   0.0695   -0.4731    0.0181\n",
      "===============================================================\n",
      "\n"
     ]
    }
   ],
   "source": [
    "# budget, box office, language, runtime, year, rating\n",
    "xvars = np.column_stack((budvect,boxvect,langType,timevect,yearvect,ratevect))\n",
    "logReg = sm.Logit(resp,xvars)\n",
    "print(logReg.fit().summary2())"
   ]
  },
  {
   "cell_type": "markdown",
   "metadata": {},
   "source": [
    "From the output, we see that the first variable, budget, is the least significant one in the presence of the other variables. Let's remove it and run the logistic regression again:"
   ]
  },
  {
   "cell_type": "code",
   "execution_count": 67,
   "metadata": {},
   "outputs": [
    {
     "name": "stdout",
     "output_type": "stream",
     "text": [
      "Optimization terminated successfully.\n",
      "         Current function value: 0.435608\n",
      "         Iterations 6\n",
      "                        Results: Logit\n",
      "===============================================================\n",
      "Model:              Logit            Pseudo R-squared: 0.027   \n",
      "Dependent Variable: y                AIC:              485.6844\n",
      "Date:               2018-06-01 18:55 BIC:              507.1975\n",
      "No. Observations:   546              Log-Likelihood:   -237.84 \n",
      "Df Model:           4                LL-Null:          -244.39 \n",
      "Df Residuals:       541              LLR p-value:      0.010815\n",
      "Converged:          1.0000           Scale:            1.0000  \n",
      "No. Iterations:     6.0000                                     \n",
      "-----------------------------------------------------------------\n",
      "         Coef.    Std.Err.      z      P>|z|     [0.025    0.975]\n",
      "-----------------------------------------------------------------\n",
      "x1       1.4517     0.6285    2.3098   0.0209    0.2199    2.6834\n",
      "x2      -1.8736     0.8030   -2.3333   0.0196   -3.4475   -0.2998\n",
      "x3       0.0152     0.0041    3.6909   0.0002    0.0071    0.0233\n",
      "x4      -0.0024     0.0045   -0.5432   0.5870   -0.0112    0.0063\n",
      "x5      -0.2279     0.1253   -1.8196   0.0688   -0.4734    0.0176\n",
      "===============================================================\n",
      "\n"
     ]
    }
   ],
   "source": [
    "# box office, language, runtime, year, rating\n",
    "xvars = np.column_stack((boxvect,langType,timevect,yearvect,ratevect))\n",
    "logReg = sm.Logit(resp,xvars)\n",
    "print(logReg.fit().summary2())"
   ]
  },
  {
   "cell_type": "markdown",
   "metadata": {},
   "source": [
    "The fourth variable, year, is not significant in the presence of the other variables. Let's remove it and run the logistic regression again:"
   ]
  },
  {
   "cell_type": "code",
   "execution_count": 68,
   "metadata": {},
   "outputs": [
    {
     "name": "stdout",
     "output_type": "stream",
     "text": [
      "Optimization terminated successfully.\n",
      "         Current function value: 0.435880\n",
      "         Iterations 6\n",
      "                         Results: Logit\n",
      "================================================================\n",
      "Model:              Logit            Pseudo R-squared: 0.026    \n",
      "Dependent Variable: y                AIC:              483.9808 \n",
      "Date:               2018-06-01 18:55 BIC:              501.1913 \n",
      "No. Observations:   546              Log-Likelihood:   -237.99  \n",
      "Df Model:           3                LL-Null:          -244.39  \n",
      "Df Residuals:       542              LLR p-value:      0.0050898\n",
      "Converged:          1.0000           Scale:            1.0000   \n",
      "No. Iterations:     6.0000                                      \n",
      "------------------------------------------------------------------\n",
      "          Coef.    Std.Err.      z      P>|z|     [0.025    0.975]\n",
      "------------------------------------------------------------------\n",
      "x1        1.4708     0.6274    2.3443   0.0191    0.2411    2.7004\n",
      "x2       -1.8052     0.7925   -2.2777   0.0227   -3.3586   -0.2518\n",
      "x3        0.0149     0.0041    3.6454   0.0003    0.0069    0.0229\n",
      "x4       -0.2463     0.1209   -2.0381   0.0415   -0.4832   -0.0094\n",
      "================================================================\n",
      "\n"
     ]
    }
   ],
   "source": [
    "# box office, language, runtime, rating\n",
    "xvars = np.column_stack((boxvect,langType,timevect,ratevect))\n",
    "logReg = sm.Logit(resp,xvars)\n",
    "print(logReg.fit().summary2())"
   ]
  },
  {
   "cell_type": "markdown",
   "metadata": {},
   "source": [
    "The remaining four variables - box office, language, runtime, and rating - are all significant at the $\\alpha=0.05$ level, with runtime being the most significant of the four in the presence of the other variables. This is a consistent result with our preliminary univariate logistic analysis from earlier."
   ]
  },
  {
   "cell_type": "markdown",
   "metadata": {},
   "source": [
    "# Similarity Kernel Construction\n",
    "In this section, a kernel is constructed for the data in datavec. The radial basis function and it represents a measure of simularity between the movies. The radial basis function between two vectors (in this case movies) for a parameter $\\gamma$ is given by $$k(x_i,x_j) = e^{-\\gamma \\left| \\left|x_i-x_j \\right| \\right|_2^2}.$$ The $\\gamma$ is set to 1/number of features. The simularity submatrix for the training set and test set are created. The training set kernel simularity matrix is a matrix which describes the simularity between movies in the training set. The test set kernel simularity matrix measures the simularity between the test set and the movies in the training set. "
   ]
  },
  {
   "cell_type": "code",
   "execution_count": 69,
   "metadata": {},
   "outputs": [
    {
     "data": {
      "text/plain": [
       "(382, 382)"
      ]
     },
     "execution_count": 69,
     "metadata": {},
     "output_type": "execute_result"
    }
   ],
   "source": [
    "from sklearn.metrics.pairwise import rbf_kernel\n",
    "trainsimkernel = rbf_kernel(traindatavect)\n",
    "trainsimkernel.shape"
   ]
  },
  {
   "cell_type": "code",
   "execution_count": 70,
   "metadata": {},
   "outputs": [
    {
     "data": {
      "text/plain": [
       "(164, 382)"
      ]
     },
     "execution_count": 70,
     "metadata": {},
     "output_type": "execute_result"
    }
   ],
   "source": [
    "train.shape\n",
    "testsimkernel = rbf_kernel(testdatavect,traindatavect)\n",
    "testsimkernel.shape"
   ]
  },
  {
   "cell_type": "markdown",
   "metadata": {},
   "source": [
    "The term $\\left| \\left|x_i-x_j \\right| \\right|_2^2 = \\sum_{k=1}^m (x_{ik}-x_{jk})^2$ where m is the number of features of datavect. The kth term in this sum is zero if $x_{ik}=x_{jk}$. The number of features is very large due to the size of plotvect. However, the number of features where $x_{ik}\\neq x_{jk}$ is much smaller. This is due to the sparsity of the plotvec matrix. "
   ]
  },
  {
   "cell_type": "markdown",
   "metadata": {},
   "source": [
    "# Classification"
   ]
  },
  {
   "cell_type": "markdown",
   "metadata": {},
   "source": [
    "## Support Vector Machine"
   ]
  },
  {
   "cell_type": "code",
   "execution_count": 79,
   "metadata": {},
   "outputs": [
    {
     "data": {
      "text/plain": [
       "SVC(C=1.0, cache_size=200, class_weight=None, coef0=0.0,\n",
       "  decision_function_shape='ovr', degree=3, gamma='auto',\n",
       "  kernel='precomputed', max_iter=-1, probability=True, random_state=None,\n",
       "  shrinking=True, tol=0.001, verbose=False)"
      ]
     },
     "execution_count": 79,
     "metadata": {},
     "output_type": "execute_result"
    }
   ],
   "source": [
    "from sklearn.svm import SVC\n",
    "machine = SVC(kernel=\"precomputed\",probability=True)\n",
    "machine.fit(trainsimkernel,trainresp)"
   ]
  },
  {
   "cell_type": "code",
   "execution_count": 80,
   "metadata": {},
   "outputs": [
    {
     "name": "stdout",
     "output_type": "stream",
     "text": [
      "[0 1]\n"
     ]
    }
   ],
   "source": [
    "from sklearn.metrics import roc_curve \n",
    "\n",
    "print(machine.classes_)\n",
    "probpred = machine.predict_proba(testsimkernel)\n",
    "probpred = [probpred[i][1] for i in range(probpred.shape[0])] #predictions of winners\n",
    "fpr, tpr, _ = roc_curve(testresp, probpred)\n"
   ]
  },
  {
   "cell_type": "code",
   "execution_count": 81,
   "metadata": {},
   "outputs": [
    {
     "data": {
      "image/png": "[encoded data removed]",
      "text/plain": [
       "<matplotlib.figure.Figure at 0x1a1e6f0748>"
      ]
     },
     "metadata": {},
     "output_type": "display_data"
    }
   ],
   "source": [
    "import matplotlib.pyplot as py\n",
    "plt.plot(fpr,tpr)\n",
    "plt.plot([0,1],[0,1])\n",
    "plt.title(\"ROC Curve\")\n",
    "plt.ylabel(\"True Positive Rate\")\n",
    "plt.xlabel(\"False Positive Rate\")\n",
    "plt.show()"
   ]
  },
  {
   "cell_type": "markdown",
   "metadata": {},
   "source": [
    "As seen above, the Support Vector machine is not very successful compared to random guessing. Although, it is slightly better than random guessing for most threshold values.  Potentially challenges that lead to this algorithms under performace are noted in the conlcusion. Its performance is probably the worst amoung considered algorithms. Examining the PR curve confirms that the performance is quite poor overall."
   ]
  },
  {
   "cell_type": "code",
   "execution_count": 82,
   "metadata": {},
   "outputs": [
    {
     "data": {
      "image/png": "[encoded data removed]",
      "text/plain": [
       "<matplotlib.figure.Figure at 0x1a1e768d30>"
      ]
     },
     "metadata": {},
     "output_type": "display_data"
    }
   ],
   "source": [
    "from sklearn.metrics import precision_recall_curve\n",
    "precision, recall, _ = precision_recall_curve(testresp, probpred)\n",
    "py.plot(recall,precision)\n",
    "py.title(\"PR Curve\")\n",
    "py.xlabel(\"Recall\")\n",
    "py.ylabel(\"Precision\")\n",
    "py.show()"
   ]
  },
  {
   "cell_type": "markdown",
   "metadata": {},
   "source": [
    "## K-Nearest Neighbors Classifcation"
   ]
  },
  {
   "cell_type": "code",
   "execution_count": 162,
   "metadata": {},
   "outputs": [
    {
     "data": {
      "image/png": "[encoded data removed]",
      "text/plain": [
       "<matplotlib.figure.Figure at 0x1a10586f98>"
      ]
     },
     "metadata": {},
     "output_type": "display_data"
    }
   ],
   "source": [
    "from sklearn.neighbors import KNeighborsClassifier as KNN\n",
    "from sklearn.model_selection import LeaveOneOut\n",
    "def loo_risk(X,y,k): # Adjusted from CODE WRITTEN BY PROF. SHARPNACK\n",
    "    \"\"\"\n",
    "    Construct the leave-one-out square error risk for a KNN model with k neighbors\n",
    "    \n",
    "    Input: design matrix, X, response vector, y,number of neighbors\n",
    "    Output: scalar LOO risk\n",
    "    \"\"\"\n",
    "    KNNclass = KNN(n_neighbors=k)\n",
    "    loo = LeaveOneOut()\n",
    "    loo_losses = []\n",
    "    for train_index, test_index in loo.split(X):\n",
    "        X_train, X_test = X[train_index], X[test_index]\n",
    "        y_train, y_test = y[train_index], y[test_index]\n",
    "        KNNclass.fit(X_train,y_train)\n",
    "        y_hat = KNNclass.predict(X_test)\n",
    "        loss = np.sum((y_hat - y_test)**2)\n",
    "        loo_losses.append(loss)\n",
    "    return np.mean(loo_losses)\n",
    "\n",
    "\n",
    "\n",
    "ks = [i for i in range(1,50)]\n",
    "loo = [loo_risk(trainsimkernel,trainresp,i) for i in range(1,50)]\n",
    "py.plot(ks,loo)\n",
    "py.title(\"Leave One out Risk for Number of Neighbors\")\n",
    "py.xlabel(\"Number of Neighbors\")\n",
    "py.ylabel(\"LOO Risk\")\n",
    "py.show()"
   ]
  },
  {
   "cell_type": "markdown",
   "metadata": {},
   "source": [
    "It seems clear from the above that more neighbors are better and there is no real improvement after 20 neighbors."
   ]
  },
  {
   "cell_type": "code",
   "execution_count": 249,
   "metadata": {},
   "outputs": [
    {
     "name": "stdout",
     "output_type": "stream",
     "text": [
      "[0 1]\n"
     ]
    }
   ],
   "source": [
    "from sklearn.metrics import roc_curve \n",
    "from sklearn.neighbors import KNeighborsClassifier as KNN\n",
    "KNNclass = KNN(n_neighbors=20)\n",
    "KNNclass.fit(trainsimkernel,trainresp)\n",
    "probpred = KNNclass.predict_proba(testsimkernel)\n",
    "print(KNNclass.classes_)\n",
    "probpred = [probpred[i][1] for i in range(probpred.shape[0])]\n",
    "fpr, tpr, _ = roc_curve(testresp, probpred)"
   ]
  },
  {
   "cell_type": "code",
   "execution_count": 250,
   "metadata": {},
   "outputs": [
    {
     "data": {
      "image/png": "[encoded data removed]",
      "text/plain": [
       "<matplotlib.figure.Figure at 0x1a0fd94cf8>"
      ]
     },
     "metadata": {},
     "output_type": "display_data"
    }
   ],
   "source": [
    "import matplotlib.pyplot as py\n",
    "py.plot(fpr,tpr)\n",
    "py.plot([0,1],[0,1])\n",
    "py.title(\"ROC Curve\")\n",
    "py.ylabel(\"True Positive Rate\")\n",
    "py.xlabel(\"False Positive Rate\")\n",
    "py.show()"
   ]
  },
  {
   "cell_type": "code",
   "execution_count": 251,
   "metadata": {},
   "outputs": [
    {
     "data": {
      "image/png": "[encoded data removed]",
      "text/plain": [
       "<matplotlib.figure.Figure at 0x1a10bb0780>"
      ]
     },
     "metadata": {},
     "output_type": "display_data"
    }
   ],
   "source": [
    "from sklearn.metrics import precision_recall_curve\n",
    "precision, recall, _ = precision_recall_curve(testresp, probpred)\n",
    "py.plot(recall,precision)\n",
    "py.title(\"PR Curve\")\n",
    "py.xlabel(\"Recall\")\n",
    "py.ylabel(\"Precision\")\n",
    "py.show()"
   ]
  },
  {
   "cell_type": "markdown",
   "metadata": {},
   "source": [
    "The key parameter in this algorithm in the number of neighbors used to determine the movies class. Most movies in the dataset did not win the academy award. It seems reasonable that this number of neighbors should be relatively large so as to be sure to capture a representative group of \"nearest\" neighbors. This parameter is tuned using leave one out cross validation. The leave one out risk decreasing sharply until about 20 nearest neighbors. After 20, the curve is relatively flat. 20 is chosen as the number of neighbors. \n",
    "\n",
    "Kth Nearest Neighbors is somewhat successful in predicting academy award winners. The algorithm beats random guessing consistently. This algorithm is more successful than support vector machines, but of course relies on the tuning parameter."
   ]
  },
  {
   "cell_type": "markdown",
   "metadata": {},
   "source": [
    "## AdaBoost Classification"
   ]
  },
  {
   "cell_type": "markdown",
   "metadata": {},
   "source": [
    "Leave One out Risk was too computationally expensive. A 70-30 split of the training set is made and the MSE error in prediction of the test set inside the training set is found."
   ]
  },
  {
   "cell_type": "code",
   "execution_count": 165,
   "metadata": {
    "scrolled": true
   },
   "outputs": [],
   "source": [
    "from sklearn.ensemble import AdaBoostClassifier\n",
    "from sklearn.model_selection import LeaveOneOut\n"
   ]
  },
  {
   "cell_type": "code",
   "execution_count": 166,
   "metadata": {},
   "outputs": [
    {
     "name": "stdout",
     "output_type": "stream",
     "text": [
      "(267, 382)\n",
      "(115, 382)\n"
     ]
    },
    {
     "data": {
      "image/png": "[encoded data removed]",
      "text/plain": [
       "<matplotlib.figure.Figure at 0x1a1d5f55f8>"
      ]
     },
     "metadata": {},
     "output_type": "display_data"
    }
   ],
   "source": [
    "from sklearn.model_selection import train_test_split\n",
    "train1, train2 = train_test_split(np.column_stack((trainsimkernel, trainresp)), test_size=0.3, random_state=34094482)\n",
    "\n",
    "\n",
    "resp1 = [train1[i][382] for i in range(train1.shape[0])]\n",
    "resp2 = [train2[i][382] for i in range(train2.shape[0])]\n",
    "train1 = np.delete(train1,382,axis=1)\n",
    "train2 = np.delete(train2,382,axis=1)\n",
    "print(train1.shape)\n",
    "print(train2.shape)\n",
    "\n",
    "ks = np.linspace(.00000001,1,100)\n",
    "def geterror(i):\n",
    "    ADA = AdaBoostClassifier(learning_rate=i)\n",
    "    ADA.fit(train1,resp1)\n",
    "    y_hat = ADA.predict(train2)\n",
    "    return np.mean((y_hat - resp2)**2)\n",
    "err = [geterror(i) for i in ks]\n",
    "py.plot(ks,err)\n",
    "py.title(\"CV Test Error for learning rate\")\n",
    "py.xlabel(\"learning Rate\")\n",
    "py.ylabel(\"CV Test Error\")\n",
    "py.show()"
   ]
  },
  {
   "cell_type": "markdown",
   "metadata": {},
   "source": [
    "This plot indicates that smaller learning rate is better. However, below about .1, there is no significant improvement in CV Test Error. So the learning rate is set to .1."
   ]
  },
  {
   "cell_type": "code",
   "execution_count": 252,
   "metadata": {},
   "outputs": [
    {
     "name": "stdout",
     "output_type": "stream",
     "text": [
      "[0 1]\n"
     ]
    }
   ],
   "source": [
    "from sklearn.ensemble import AdaBoostClassifier\n",
    "ADA = AdaBoostClassifier(learning_rate=.1)\n",
    "ADA.fit(trainsimkernel,trainresp)\n",
    "probpred = ADA.predict_proba(testsimkernel)\n",
    "print(ADA.classes_)\n",
    "probpred = [probpred[i][1] for i in range(probpred.shape[0])]\n",
    "fpr, tpr, _ = roc_curve(testresp, probpred)"
   ]
  },
  {
   "cell_type": "code",
   "execution_count": 253,
   "metadata": {},
   "outputs": [
    {
     "data": {
      "image/png": "[encoded data removed]",
      "text/plain": [
       "<matplotlib.figure.Figure at 0x1a10111b00>"
      ]
     },
     "metadata": {},
     "output_type": "display_data"
    }
   ],
   "source": [
    "import matplotlib.pyplot as py\n",
    "py.plot(fpr,tpr)\n",
    "py.plot([0,1],[0,1])\n",
    "py.title(\"ROC Curve\")\n",
    "py.ylabel(\"True Positive Rate\")\n",
    "py.xlabel(\"False Positive Rate\")\n",
    "py.show()"
   ]
  },
  {
   "cell_type": "code",
   "execution_count": 254,
   "metadata": {},
   "outputs": [
    {
     "data": {
      "image/png": "[encoded data removed]",
      "text/plain": [
       "<matplotlib.figure.Figure at 0x1a1199bac8>"
      ]
     },
     "metadata": {},
     "output_type": "display_data"
    }
   ],
   "source": [
    "from sklearn.metrics import precision_recall_curve\n",
    "precision, recall, _ = precision_recall_curve(testresp, probpred)\n",
    "py.plot(recall,precision)\n",
    "py.title(\"PR Curve\")\n",
    "py.xlabel(\"Recall\")\n",
    "py.ylabel(\"Precision\")\n",
    "py.show()"
   ]
  },
  {
   "cell_type": "markdown",
   "metadata": {},
   "source": [
    "The learning rate must be tuned in this algorithm. Empirical Risk was not very informative and leave one out risk was not computationally feasible, so a 70-30 split of the training set is made. The algorithm is trained on 70% of the trianing set and its performance is evaluated on the remaining 30% by means of mean squared error. While the plot of this cross validation error does lead to a clear choice of learning rates. It seems that smaller values are superior and .1 is chosen. There appears to be only negligible improvement from learning rates lower than .1. \n",
    "\n",
    "The adaboost algorithm is somewhat sucessful in predicting academy award winners. Its ability is comparable to kth nearest neighbors and superior to support vector machines. The algorithm is consistently better than random guessing, but not by a large margin. \n",
    "\n",
    "More advanced cross validation and tuning parameter selection techniques  may be able to improve the performance of this algorithm. Compared to other algorithms in this analysis, it performs quite well comparatively already in terms of ROC. The PR curve however is quite poor."
   ]
  },
  {
   "cell_type": "markdown",
   "metadata": {},
   "source": [
    "## Random Forest"
   ]
  },
  {
   "cell_type": "markdown",
   "metadata": {},
   "source": [
    "Empirical Risk was chosen for tuning the number of trees in the forest. Using LOO Risk was too computationally expensive."
   ]
  },
  {
   "cell_type": "code",
   "execution_count": 169,
   "metadata": {},
   "outputs": [],
   "source": [
    "from sklearn.ensemble import RandomForestClassifier\n",
    "\n",
    "def emp_risk(X,y,i):\n",
    "    \"\"\"\n",
    "    Return the empirical risk for square error loss in random forest\n",
    "    \n",
    "    Input: design matrix, X, response vector, y, number of trees\n",
    "    Output: scalar empirical risk\n",
    "    \"\"\"\n",
    "    RFC = RandomForestClassifier(n_estimators=i)\n",
    "    RFC.fit(X,y)\n",
    "    y_hat = RFC.predict(X)\n",
    "    return np.mean((y_hat - y)**2)\n",
    "\n"
   ]
  },
  {
   "cell_type": "code",
   "execution_count": 170,
   "metadata": {},
   "outputs": [
    {
     "data": {
      "image/png": "[encoded data removed]",
      "text/plain": [
       "<matplotlib.figure.Figure at 0x1a1c563208>"
      ]
     },
     "metadata": {},
     "output_type": "display_data"
    }
   ],
   "source": [
    "ks = [i for i in range(1,100)]\n",
    "emp = [emp_risk(trainsimkernel,trainresp,i) for i in range(1,100)]\n",
    "py.plot(ks,emp)\n",
    "py.title(\"Empirical Risk for Number of Trees\")\n",
    "py.xlabel(\"Number of Trees\")\n",
    "py.ylabel(\"Empirical Risk\")\n",
    "py.show()"
   ]
  },
  {
   "cell_type": "markdown",
   "metadata": {},
   "source": [
    "There is little to no improvement after 40 trees. This number is chosen."
   ]
  },
  {
   "cell_type": "code",
   "execution_count": 255,
   "metadata": {},
   "outputs": [
    {
     "name": "stdout",
     "output_type": "stream",
     "text": [
      "[0 1]\n"
     ]
    }
   ],
   "source": [
    "from sklearn.ensemble import RandomForestClassifier\n",
    "RFC = RandomForestClassifier(40)\n",
    "RFC.fit(trainsimkernel,trainresp)\n",
    "probpred = RFC.predict_proba(testsimkernel)\n",
    "print(RFC.classes_)\n",
    "probpred = [probpred[i][1] for i in range(probpred.shape[0])]\n",
    "fpr, tpr, _ = roc_curve(testresp, probpred)"
   ]
  },
  {
   "cell_type": "code",
   "execution_count": 256,
   "metadata": {},
   "outputs": [
    {
     "data": {
      "image/png": "[encoded data removed]",
      "text/plain": [
       "<matplotlib.figure.Figure at 0x1a11df65c0>"
      ]
     },
     "metadata": {},
     "output_type": "display_data"
    }
   ],
   "source": [
    "import matplotlib.pyplot as py\n",
    "py.plot(fpr,tpr)\n",
    "py.plot([0,1],[0,1])\n",
    "py.title(\"ROC Curve\")\n",
    "py.ylabel(\"True Positive Rate\")\n",
    "py.xlabel(\"False Positive Rate\")\n",
    "py.show()"
   ]
  },
  {
   "cell_type": "code",
   "execution_count": 257,
   "metadata": {},
   "outputs": [
    {
     "data": {
      "image/png": "[encoded data removed]",
      "text/plain": [
       "<matplotlib.figure.Figure at 0x109ab5198>"
      ]
     },
     "metadata": {},
     "output_type": "display_data"
    }
   ],
   "source": [
    "\n",
    "from sklearn.metrics import precision_recall_curve\n",
    "precision, recall, _ = precision_recall_curve(testresp, probpred)\n",
    "py.plot(recall,precision)\n",
    "py.title(\"PR Curve\")\n",
    "py.xlabel(\"Recall\")\n",
    "py.ylabel(\"Precision\")\n",
    "py.show()"
   ]
  },
  {
   "cell_type": "markdown",
   "metadata": {},
   "source": [
    "Random Forest algorithms utilizing bagging and decision trees to make predictions. The number of trees in this forest must be inputed. Empirical Risk is used for this paramter tuning because leave one out risk was not computationally feasible. The empirical risk curve indates that there is little improvement from increasing the number of trees beyond 40. For the sake of lowering computational speed and promoting model simplicity, the number of trees is chosen to be 40. There is little to no improvement in emprirical risk from increasing this parameter. \n",
    "\n",
    "This algorithm performs better than random guessing. However, like the other algorithms in this project, it only beats it by a small margin. The algorithm is consistent for all threshold values. The authors would rank this algorithms performance as superior to support vector machines but inferior to Kth nearest neighbors and Adaboost. \n",
    "\n",
    "Once again, the PR curve reveals that performance is not very good, as is the case for all PR curves in this analysis. The authors gives some explanations as to why this classification problem may be so difficult in the conclusion."
   ]
  },
  {
   "cell_type": "markdown",
   "metadata": {},
   "source": [
    "# Logistic Regression"
   ]
  },
  {
   "cell_type": "code",
   "execution_count": 258,
   "metadata": {},
   "outputs": [
    {
     "name": "stdout",
     "output_type": "stream",
     "text": [
      "[0 1]\n"
     ]
    }
   ],
   "source": [
    "from sklearn.linear_model import LogisticRegression\n",
    "LR = LogisticRegression()\n",
    "LR.fit(trainsimkernel,trainresp)\n",
    "probpred = LR.predict_proba(testsimkernel)\n",
    "print(LR.classes_)\n",
    "probpred = [probpred[i][1] for i in range(probpred.shape[0])]\n",
    "fpr, tpr, _ = roc_curve(testresp, probpred)"
   ]
  },
  {
   "cell_type": "code",
   "execution_count": 259,
   "metadata": {},
   "outputs": [
    {
     "data": {
      "image/png": "[encoded data removed]",
      "text/plain": [
       "<matplotlib.figure.Figure at 0x1a1009e208>"
      ]
     },
     "metadata": {},
     "output_type": "display_data"
    }
   ],
   "source": [
    "import matplotlib.pyplot as py\n",
    "py.plot(fpr,tpr)\n",
    "py.plot([0,1],[0,1])\n",
    "py.title(\"ROC Curve\")\n",
    "py.ylabel(\"True Positive Rate\")\n",
    "py.xlabel(\"False Positive Rate\")\n",
    "py.show()"
   ]
  },
  {
   "cell_type": "code",
   "execution_count": 260,
   "metadata": {},
   "outputs": [
    {
     "data": {
      "image/png": "[encoded data removed]",
      "text/plain": [
       "<matplotlib.figure.Figure at 0x10f1d2908>"
      ]
     },
     "metadata": {},
     "output_type": "display_data"
    }
   ],
   "source": [
    "from sklearn.metrics import precision_recall_curve\n",
    "precision, recall, _ = precision_recall_curve(testresp, probpred)\n",
    "py.plot(recall,precision)\n",
    "py.title(\"PR Curve\")\n",
    "py.xlabel(\"Recall\")\n",
    "py.ylabel(\"Precision\")\n",
    "py.show()"
   ]
  },
  {
   "cell_type": "markdown",
   "metadata": {},
   "source": [
    "Note that Logistic Regression was also used above to explore and model the data. Individual significance of variables were explored in that analysis, but only a subset of features were utilized. This logistic regression model uses all features (through a simularity measure).\n",
    "\n",
    "The authors suggest that Logistic regression is the best performing algorithm of the algorithms explored here. It does not vastly outperform random guessing, but it is quite sucessful considering the difficult nature of classification in this setting and problem. As can be seen in the ROC curve, logistic regression outperforms random guessing for all threshold values. The PR curve indicates, however, that there is still signifcant room for improvement."
   ]
  },
  {
   "cell_type": "markdown",
   "metadata": {},
   "source": [
    "# Conclusion"
   ]
  },
  {
   "cell_type": "markdown",
   "metadata": {},
   "source": [
    "The above analysis shows that it is difficult to predict academy award winners.  Here are some potential challenges in this classification problem: \n",
    "Challenges: \n",
    "1. Small sample size: Since only one movie wins the award each year, there are few movies to train an algorithm on that are winners. This dataset could be expanded by including non-nominated movies, but these movies would of course not be winners. \n",
    "2. Uniqueness: A primary component of this analysis is the use of a simularity measure. However, often the uniqueness and individuality of a plot or film is the very thing that makes it successful. As a result, it can be difficult to predict whether a movie will be successful by comparing it to other successful movies. \n",
    "3. Emotion: Many variables affect a movies appeal and sucess. Many of these are subtle or emotional and therfore difficult to quantify. Despite this, all algorithms show some success in predicting academy award winners. \n",
    "\n",
    "Despite these challenges, each algorithm beats random guessing (for most threshold values). There is still some variability in academy award victories that can be explained consistently by these algorithms. However, PR cures reveal that there is still significant room for improvement. Here are some potential areas for improvement in future research and work:\n",
    "\n",
    "1. Larger sample size.\n",
    "2. More advanced algorithms to deal with the class imbalance. Most movies do not win the academy award so there are far more movies that didnt win than those who did win. A more advanced and complex algorithm may deal with this problem more effectively.\n",
    "3. More advanced parameter tuning. \n",
    "4. More detailed plots, perhaps using scripts instead of summaries.\n",
    "\n",
    "\n",
    "In summary, this classification problem is a difficult one and it present a variety of challenges. Despite these, a variety of binary classification algorithms do show some promise in predicting academy award winning movies using a variety of features.\n"
   ]
  },
  {
   "cell_type": "code",
   "execution_count": null,
   "metadata": {},
   "outputs": [],
   "source": []
  },
  {
   "cell_type": "code",
   "execution_count": null,
   "metadata": {},
   "outputs": [],
   "source": []
  },
  {
   "cell_type": "code",
   "execution_count": null,
   "metadata": {},
   "outputs": [],
   "source": []
  },
  {
   "cell_type": "code",
   "execution_count": null,
   "metadata": {},
   "outputs": [],
   "source": []
  },
  {
   "cell_type": "code",
   "execution_count": null,
   "metadata": {},
   "outputs": [],
   "source": []
  },
  {
   "cell_type": "code",
   "execution_count": null,
   "metadata": {},
   "outputs": [],
   "source": []
  }
 ],
 "metadata": {
  "kernelspec": {
   "display_name": "Python 3",
   "language": "python",
   "name": "python3"
  },
  "language_info": {
   "codemirror_mode": {
    "name": "ipython",
    "version": 3
   },
   "file_extension": ".py",
   "mimetype": "text/x-python",
   "name": "python",
   "nbconvert_exporter": "python",
   "pygments_lexer": "ipython3",
   "version": "3.6.5"
  }
 },
 "nbformat": 4,
 "nbformat_minor": 2
}
